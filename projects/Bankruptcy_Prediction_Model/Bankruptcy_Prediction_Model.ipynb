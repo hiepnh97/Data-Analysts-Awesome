{
  "nbformat": 4,
  "nbformat_minor": 0,
  "metadata": {
    "colab": {
      "name": " Bankruptcy Prediction Model.ipynb",
      "provenance": [],
      "collapsed_sections": []
    },
    "kernelspec": {
      "name": "python3",
      "display_name": "Python 3"
    },
    "language_info": {
      "name": "python"
    }
  },
  "cells": [
    {
      "cell_type": "markdown",
      "metadata": {
        "id": "TATUtYaFgGQ3"
      },
      "source": [
        "- Nguyễn Hoàng Hiệp\n",
        "- email: hoanghiepuit97@gmail.com\n"
      ]
    },
    {
      "cell_type": "markdown",
      "metadata": {
        "id": "91lro_OXe4wC"
      },
      "source": [
        "# Task:\n",
        "- Build/train a model of your choice and explain briefly what it predicts (input, output, interpretation)\n",
        "- Submit a python file that shows how this model is exposed through an API\n",
        "- Include some examples of testing the API methods\n"
      ]
    },
    {
      "cell_type": "markdown",
      "metadata": {
        "id": "MfLjWINRty_O"
      },
      "source": [
        "# Introduce Model\n",
        "## Interpretation:\n",
        "The data were collected from the Taiwan Economic Journal for the years 1999 to 2009. Company bankruptcy was defined based on the business regulations of the Taiwan Stock Exchange.\n",
        "\n",
        "Supervised Learning with\n",
        "\n",
        "## Input:\n",
        "## Output:\n",
        "## Data Attribute Information:\n",
        "Y - Bankrupt?: Class label\n",
        "\n",
        "X1 - ROA(C) before interest and depreciation before interest: Return On Total Assets(C)\n",
        "\n",
        "X2 - ROA(A) before interest and % after tax: Return On Total Assets(A)\n",
        "\n",
        "X3 - ROA(B) before interest and depreciation after tax: Return On Total Assets(B)\n",
        "\n",
        "X4 - Operating Gross Margin: Gross Profit/Net Sales\n",
        "\n",
        "X5 - Realized Sales Gross Margin: Realized Gross Profit/Net Sales\n",
        "\n",
        "X6 - Operating Profit Rate: Operating Income/Net Sales\n",
        "\n",
        "X7 - Pre-tax net Interest Rate: Pre-Tax Income/Net Sales\n",
        "\n",
        "X8 - After-tax net Interest Rate: Net Income/Net Sales\n",
        "\n",
        "X9 - Non-industry income and expenditure/revenue: Net Non-operating Income Ratio\n",
        "\n",
        "X10 - Continuous interest rate (after tax): Net Income-Exclude Disposal Gain or Loss/Net Sales\n",
        "\n",
        "X11 - Operating Expense Rate: Operating Expenses/Net Sales\n",
        "\n",
        "X12 - Research and development expense rate: (Research and Development Expenses)/Net Sales\n",
        "\n",
        "X13 - Cash flow rate: Cash Flow from Operating/Current Liabilities\n",
        "\n",
        "X14 - Interest-bearing debt interest rate: Interest-bearing Debt/Equity\n",
        "\n",
        "X15 - Tax rate (A): Effective Tax Rate\n",
        "\n",
        "X16 - Net Value Per Share (B): Book Value Per Share(B)\n",
        "\n",
        "X17 - Net Value Per Share (A): Book Value Per Share(A)\n",
        "\n",
        "X18 - Net Value Per Share (C): Book Value Per Share(C)\n",
        "\n",
        "X19 - Persistent EPS in the Last Four Seasons: EPS-Net Income\n",
        "\n",
        "X20 - Cash Flow Per Share\n",
        "\n",
        "X21 - Revenue Per Share (Yuan ¥): Sales Per Share\n",
        "\n",
        "X22 - Operating Profit Per Share (Yuan ¥): Operating Income Per Share\n",
        "\n",
        "X23 - Per Share Net profit before tax (Yuan ¥): Pretax Income Per Share\n",
        "\n",
        "X24 - Realized Sales Gross Profit Growth Rate\n",
        "\n",
        "X25 - Operating Profit Growth Rate: Operating Income Growth\n",
        "\n",
        "X26 - After-tax Net Profit Growth Rate: Net Income Growth\n",
        "\n",
        "X27 - Regular Net Profit Growth Rate: Continuing Operating Income after Tax Growth\n",
        "\n",
        "X28 - Continuous Net Profit Growth Rate: Net Income-Excluding Disposal Gain or Loss Growth\n",
        "\n",
        "X29 - Total Asset Growth Rate: Total Asset Growth\n",
        "\n",
        "X30 - Net Value Growth Rate: Total Equity Growth\n",
        "\n",
        "X31 - Total Asset Return Growth Rate Ratio: Return on Total Asset Growth\n",
        "\n",
        "X32 - Cash Reinvestment %: Cash Reinvestment Ratio\n",
        "\n",
        "X33 - Current Ratio\n",
        "\n",
        "X34 - Quick Ratio: Acid Test\n",
        "\n",
        "X35 - Interest Expense Ratio: Interest Expenses/Total Revenue\n",
        "\n",
        "X36 - Total debt/Total net worth: Total Liability/Equity Ratio\n",
        "\n",
        "X37 - Debt ratio %: Liability/Total Assets\n",
        "\n",
        "X38 - Net worth/Assets: Equity/Total Assets\n",
        "\n",
        "X39 - Long-term fund suitability ratio (A): (Long-term Liability+Equity)/Fixed Assets\n",
        "\n",
        "X40 - Borrowing dependency: Cost of Interest-bearing Debt\n",
        "\n",
        "X41 - Contingent liabilities/Net worth: Contingent Liability/Equity\n",
        "\n",
        "X42 - Operating profit/Paid-in capital: Operating Income/Capital\n",
        "\n",
        "X43 - Net profit before tax/Paid-in capital: Pretax Income/Capital\n",
        "\n",
        "X44 - Inventory and accounts receivable/Net value: (Inventory+Accounts Receivables)/Equity\n",
        "\n",
        "X45 - Total Asset Turnover\n",
        "\n",
        "X46 - Accounts Receivable Turnover\n",
        "\n",
        "X47 - Average Collection Days: Days Receivable Outstanding\n",
        "\n",
        "X48 - Inventory Turnover Rate (times)\n",
        "\n",
        "X49 - Fixed Assets Turnover Frequency\n",
        "\n",
        "X50 - Net Worth Turnover Rate (times): Equity Turnover\n",
        "\n",
        "X51 - Revenue per person: Sales Per Employee\n",
        "\n",
        "X52 - Operating profit per person: Operation Income Per Employee\n",
        "\n",
        "X53 - Allocation rate per person: Fixed Assets Per Employee\n",
        "\n",
        "X54 - Working Capital to Total Assets\n",
        "\n",
        "X55 - Quick Assets/Total Assets\n",
        "\n",
        "X56 - Current Assets/Total Assets\n",
        "\n",
        "X57 - Cash/Total Assets\n",
        "\n",
        "X58 - Quick Assets/Current Liability\n",
        "\n",
        "X59 - Cash/Current Liability\n",
        "\n",
        "X60 - Current Liability to Assets\n",
        "\n",
        "X61 - Operating Funds to Liability\n",
        "\n",
        "X62 - Inventory/Working Capital\n",
        "\n",
        "X63 - Inventory/Current Liability\n",
        "\n",
        "X64 - Current Liabilities/Liability\n",
        "\n",
        "X65 - Working Capital/Equity\n",
        "\n",
        "X66 - Current Liabilities/Equity\n",
        "\n",
        "X67 - Long-term Liability to Current Assets\n",
        "\n",
        "X68 - Retained Earnings to Total Assets\n",
        "\n",
        "X69 - Total income/Total expense\n",
        "\n",
        "X70 - Total expense/Assets\n",
        "\n",
        "X71 - Current Asset Turnover Rate: Current Assets to Sales\n",
        "\n",
        "X72 - Quick Asset Turnover Rate: Quick Assets to Sales\n",
        "\n",
        "X73 - Working capitcal Turnover Rate: Working Capital to Sales\n",
        "\n",
        "X74 - Cash Turnover Rate: Cash to Sales\n",
        "\n",
        "X75 - Cash Flow to Sales\n",
        "\n",
        "X76 - Fixed Assets to Assets\n",
        "\n",
        "X77 - Current Liability to Liability\n",
        "\n",
        "X78 - Current Liability to Equity\n",
        "\n",
        "X79 - Equity to Long-term Liability\n",
        "\n",
        "X80 - Cash Flow to Total Assets\n",
        "\n",
        "X81 - Cash Flow to Liability\n",
        "\n",
        "X82 - CFO to Assets\n",
        "\n",
        "X83 - Cash Flow to Equity\n",
        "\n",
        "X84 - Current Liability to Current Assets\n",
        "\n",
        "X85 - Liability-Assets Flag: 1 if Total Liability exceeds Total Assets, 0 otherwise\n",
        "\n",
        "X86 - Net Income to Total Assets\n",
        "\n",
        "X87 - Total assets to GNP price\n",
        "\n",
        "X88 - No-credit Interval\n",
        "\n",
        "X89 - Gross Profit to Sales\n",
        "\n",
        "X90 - Net Income to Stockholder's Equity\n",
        "\n",
        "X91 - Liability to Equity\n",
        "\n",
        "X92 - Degree of Financial Leverage (DFL)\n",
        "\n",
        "X93 - Interest Coverage Ratio (Interest expense to EBIT)\n",
        "\n",
        "X94 - Net Income Flag: 1 if Net Income is Negative for the last two years, 0 otherwise\n",
        "\n",
        "X95 - Equity to Liability\n"
      ]
    },
    {
      "cell_type": "markdown",
      "metadata": {
        "id": "YewM5sxVPa7z"
      },
      "source": [
        "# Understanding data"
      ]
    },
    {
      "cell_type": "code",
      "metadata": {
        "id": "YtsrQ9sgNY7d"
      },
      "source": [
        "from timeit import default_timer as timer\n",
        "import itertools\n",
        "\n",
        "import numpy as np\n",
        "import pandas as pd\n",
        "from pandas import read_csv\n",
        "import seaborn as sns\n",
        "from random import randint\n",
        "import matplotlib.pyplot as plt\n",
        "\n",
        "from sklearn.preprocessing import StandardScaler\n",
        "from sklearn.model_selection import train_test_split, KFold\n",
        "from sklearn.decomposition import PCA\n",
        "from sklearn.metrics import f1_score\n",
        "from sklearn.metrics import confusion_matrix\n",
        "\n",
        "from imblearn.over_sampling import SMOTE\n",
        "\n",
        "from sklearn.ensemble import RandomForestClassifier"
      ],
      "execution_count": null,
      "outputs": []
    },
    {
      "cell_type": "code",
      "metadata": {
        "id": "vRzfFWImfByX"
      },
      "source": [
        "# Import PyDrive and associated libraries.\n",
        "# This only needs to be done once per notebook.\n",
        "from pydrive.auth import GoogleAuth\n",
        "from pydrive.drive import GoogleDrive\n",
        "from google.colab import auth\n",
        "from oauth2client.client import GoogleCredentials"
      ],
      "execution_count": null,
      "outputs": []
    },
    {
      "cell_type": "code",
      "metadata": {
        "id": "iZ57QRgiMdE0"
      },
      "source": [
        "# Authenticate and create the PyDrive client.\n",
        "# This only needs to be done once per notebook.\n",
        "auth.authenticate_user()\n",
        "gauth = GoogleAuth()\n",
        "gauth.credentials = GoogleCredentials.get_application_default()\n",
        "drive = GoogleDrive(gauth)"
      ],
      "execution_count": null,
      "outputs": []
    },
    {
      "cell_type": "code",
      "metadata": {
        "id": "jKtfUoxYMewr"
      },
      "source": [
        "# https://drive.google.com/file/d/1UY7PXnjwm3aeClojS5WvOpVenKQ0eBW1/view?usp=sharing\n",
        "# File ID: 1UY7PXnjwm3aeClojS5WvOpVenKQ0eBW1\n",
        "file_id = '1UY7PXnjwm3aeClojS5WvOpVenKQ0eBW1'\n",
        "downloaded = drive.CreateFile({'id': file_id})\n",
        "downloaded.GetContentFile('company_bankruptcy_data.csv') # dowload file\n",
        "# Load data to dataframe\n",
        "data_raw = pd.read_csv('company_bankruptcy_data.csv')\n",
        "data_raw.columns = [i.title().strip() for i in list(data_raw.columns)]"
      ],
      "execution_count": null,
      "outputs": []
    },
    {
      "cell_type": "code",
      "metadata": {
        "colab": {
          "base_uri": "https://localhost:8080/",
          "height": 372
        },
        "id": "RH05-ITjNEc3",
        "outputId": "264fc4b7-d70e-4785-bb05-85e2d259897e"
      },
      "source": [
        "# Check get data is success\n",
        "data_raw.head()"
      ],
      "execution_count": null,
      "outputs": [
        {
          "output_type": "execute_result",
          "data": {
            "text/html": [
              "<div>\n",
              "<style scoped>\n",
              "    .dataframe tbody tr th:only-of-type {\n",
              "        vertical-align: middle;\n",
              "    }\n",
              "\n",
              "    .dataframe tbody tr th {\n",
              "        vertical-align: top;\n",
              "    }\n",
              "\n",
              "    .dataframe thead th {\n",
              "        text-align: right;\n",
              "    }\n",
              "</style>\n",
              "<table border=\"1\" class=\"dataframe\">\n",
              "  <thead>\n",
              "    <tr style=\"text-align: right;\">\n",
              "      <th></th>\n",
              "      <th>Bankrupt?</th>\n",
              "      <th>Roa(C) Before Interest And Depreciation Before Interest</th>\n",
              "      <th>Roa(A) Before Interest And % After Tax</th>\n",
              "      <th>Roa(B) Before Interest And Depreciation After Tax</th>\n",
              "      <th>Operating Gross Margin</th>\n",
              "      <th>Realized Sales Gross Margin</th>\n",
              "      <th>Operating Profit Rate</th>\n",
              "      <th>Pre-Tax Net Interest Rate</th>\n",
              "      <th>After-Tax Net Interest Rate</th>\n",
              "      <th>Non-Industry Income And Expenditure/Revenue</th>\n",
              "      <th>Continuous Interest Rate (After Tax)</th>\n",
              "      <th>Operating Expense Rate</th>\n",
              "      <th>Research And Development Expense Rate</th>\n",
              "      <th>Cash Flow Rate</th>\n",
              "      <th>Interest-Bearing Debt Interest Rate</th>\n",
              "      <th>Tax Rate (A)</th>\n",
              "      <th>Net Value Per Share (B)</th>\n",
              "      <th>Net Value Per Share (A)</th>\n",
              "      <th>Net Value Per Share (C)</th>\n",
              "      <th>Persistent Eps In The Last Four Seasons</th>\n",
              "      <th>Cash Flow Per Share</th>\n",
              "      <th>Revenue Per Share (Yuan ¥)</th>\n",
              "      <th>Operating Profit Per Share (Yuan ¥)</th>\n",
              "      <th>Per Share Net Profit Before Tax (Yuan ¥)</th>\n",
              "      <th>Realized Sales Gross Profit Growth Rate</th>\n",
              "      <th>Operating Profit Growth Rate</th>\n",
              "      <th>After-Tax Net Profit Growth Rate</th>\n",
              "      <th>Regular Net Profit Growth Rate</th>\n",
              "      <th>Continuous Net Profit Growth Rate</th>\n",
              "      <th>Total Asset Growth Rate</th>\n",
              "      <th>Net Value Growth Rate</th>\n",
              "      <th>Total Asset Return Growth Rate Ratio</th>\n",
              "      <th>Cash Reinvestment %</th>\n",
              "      <th>Current Ratio</th>\n",
              "      <th>Quick Ratio</th>\n",
              "      <th>Interest Expense Ratio</th>\n",
              "      <th>Total Debt/Total Net Worth</th>\n",
              "      <th>Debt Ratio %</th>\n",
              "      <th>Net Worth/Assets</th>\n",
              "      <th>Long-Term Fund Suitability Ratio (A)</th>\n",
              "      <th>...</th>\n",
              "      <th>Current Assets/Total Assets</th>\n",
              "      <th>Cash/Total Assets</th>\n",
              "      <th>Quick Assets/Current Liability</th>\n",
              "      <th>Cash/Current Liability</th>\n",
              "      <th>Current Liability To Assets</th>\n",
              "      <th>Operating Funds To Liability</th>\n",
              "      <th>Inventory/Working Capital</th>\n",
              "      <th>Inventory/Current Liability</th>\n",
              "      <th>Current Liabilities/Liability</th>\n",
              "      <th>Working Capital/Equity</th>\n",
              "      <th>Current Liabilities/Equity</th>\n",
              "      <th>Long-Term Liability To Current Assets</th>\n",
              "      <th>Retained Earnings To Total Assets</th>\n",
              "      <th>Total Income/Total Expense</th>\n",
              "      <th>Total Expense/Assets</th>\n",
              "      <th>Current Asset Turnover Rate</th>\n",
              "      <th>Quick Asset Turnover Rate</th>\n",
              "      <th>Working Capitcal Turnover Rate</th>\n",
              "      <th>Cash Turnover Rate</th>\n",
              "      <th>Cash Flow To Sales</th>\n",
              "      <th>Fixed Assets To Assets</th>\n",
              "      <th>Current Liability To Liability</th>\n",
              "      <th>Current Liability To Equity</th>\n",
              "      <th>Equity To Long-Term Liability</th>\n",
              "      <th>Cash Flow To Total Assets</th>\n",
              "      <th>Cash Flow To Liability</th>\n",
              "      <th>Cfo To Assets</th>\n",
              "      <th>Cash Flow To Equity</th>\n",
              "      <th>Current Liability To Current Assets</th>\n",
              "      <th>Liability-Assets Flag</th>\n",
              "      <th>Net Income To Total Assets</th>\n",
              "      <th>Total Assets To Gnp Price</th>\n",
              "      <th>No-Credit Interval</th>\n",
              "      <th>Gross Profit To Sales</th>\n",
              "      <th>Net Income To Stockholder'S Equity</th>\n",
              "      <th>Liability To Equity</th>\n",
              "      <th>Degree Of Financial Leverage (Dfl)</th>\n",
              "      <th>Interest Coverage Ratio (Interest Expense To Ebit)</th>\n",
              "      <th>Net Income Flag</th>\n",
              "      <th>Equity To Liability</th>\n",
              "    </tr>\n",
              "  </thead>\n",
              "  <tbody>\n",
              "    <tr>\n",
              "      <th>0</th>\n",
              "      <td>1</td>\n",
              "      <td>0.370594</td>\n",
              "      <td>0.424389</td>\n",
              "      <td>0.405750</td>\n",
              "      <td>0.601457</td>\n",
              "      <td>0.601457</td>\n",
              "      <td>0.998969</td>\n",
              "      <td>0.796887</td>\n",
              "      <td>0.808809</td>\n",
              "      <td>0.302646</td>\n",
              "      <td>0.780985</td>\n",
              "      <td>1.256969e-04</td>\n",
              "      <td>0.0</td>\n",
              "      <td>0.458143</td>\n",
              "      <td>0.000725</td>\n",
              "      <td>0.0</td>\n",
              "      <td>0.147950</td>\n",
              "      <td>0.147950</td>\n",
              "      <td>0.147950</td>\n",
              "      <td>0.169141</td>\n",
              "      <td>0.311664</td>\n",
              "      <td>0.017560</td>\n",
              "      <td>0.095921</td>\n",
              "      <td>0.138736</td>\n",
              "      <td>0.022102</td>\n",
              "      <td>0.848195</td>\n",
              "      <td>0.688979</td>\n",
              "      <td>0.688979</td>\n",
              "      <td>0.217535</td>\n",
              "      <td>4.980000e+09</td>\n",
              "      <td>0.000327</td>\n",
              "      <td>0.263100</td>\n",
              "      <td>0.363725</td>\n",
              "      <td>0.002259</td>\n",
              "      <td>0.001208</td>\n",
              "      <td>0.629951</td>\n",
              "      <td>0.021266</td>\n",
              "      <td>0.207576</td>\n",
              "      <td>0.792424</td>\n",
              "      <td>0.005024</td>\n",
              "      <td>...</td>\n",
              "      <td>0.190643</td>\n",
              "      <td>0.004094</td>\n",
              "      <td>0.001997</td>\n",
              "      <td>1.473360e-04</td>\n",
              "      <td>0.147308</td>\n",
              "      <td>0.334015</td>\n",
              "      <td>0.276920</td>\n",
              "      <td>0.001036</td>\n",
              "      <td>0.676269</td>\n",
              "      <td>0.721275</td>\n",
              "      <td>0.339077</td>\n",
              "      <td>0.025592</td>\n",
              "      <td>0.903225</td>\n",
              "      <td>0.002022</td>\n",
              "      <td>0.064856</td>\n",
              "      <td>7.010000e+08</td>\n",
              "      <td>6.550000e+09</td>\n",
              "      <td>0.593831</td>\n",
              "      <td>4.580000e+08</td>\n",
              "      <td>0.671568</td>\n",
              "      <td>0.424206</td>\n",
              "      <td>0.676269</td>\n",
              "      <td>0.339077</td>\n",
              "      <td>0.126549</td>\n",
              "      <td>0.637555</td>\n",
              "      <td>0.458609</td>\n",
              "      <td>0.520382</td>\n",
              "      <td>0.312905</td>\n",
              "      <td>0.118250</td>\n",
              "      <td>0</td>\n",
              "      <td>0.716845</td>\n",
              "      <td>0.009219</td>\n",
              "      <td>0.622879</td>\n",
              "      <td>0.601453</td>\n",
              "      <td>0.827890</td>\n",
              "      <td>0.290202</td>\n",
              "      <td>0.026601</td>\n",
              "      <td>0.564050</td>\n",
              "      <td>1</td>\n",
              "      <td>0.016469</td>\n",
              "    </tr>\n",
              "    <tr>\n",
              "      <th>1</th>\n",
              "      <td>1</td>\n",
              "      <td>0.464291</td>\n",
              "      <td>0.538214</td>\n",
              "      <td>0.516730</td>\n",
              "      <td>0.610235</td>\n",
              "      <td>0.610235</td>\n",
              "      <td>0.998946</td>\n",
              "      <td>0.797380</td>\n",
              "      <td>0.809301</td>\n",
              "      <td>0.303556</td>\n",
              "      <td>0.781506</td>\n",
              "      <td>2.897851e-04</td>\n",
              "      <td>0.0</td>\n",
              "      <td>0.461867</td>\n",
              "      <td>0.000647</td>\n",
              "      <td>0.0</td>\n",
              "      <td>0.182251</td>\n",
              "      <td>0.182251</td>\n",
              "      <td>0.182251</td>\n",
              "      <td>0.208944</td>\n",
              "      <td>0.318137</td>\n",
              "      <td>0.021144</td>\n",
              "      <td>0.093722</td>\n",
              "      <td>0.169918</td>\n",
              "      <td>0.022080</td>\n",
              "      <td>0.848088</td>\n",
              "      <td>0.689693</td>\n",
              "      <td>0.689702</td>\n",
              "      <td>0.217620</td>\n",
              "      <td>6.110000e+09</td>\n",
              "      <td>0.000443</td>\n",
              "      <td>0.264516</td>\n",
              "      <td>0.376709</td>\n",
              "      <td>0.006016</td>\n",
              "      <td>0.004039</td>\n",
              "      <td>0.635172</td>\n",
              "      <td>0.012502</td>\n",
              "      <td>0.171176</td>\n",
              "      <td>0.828824</td>\n",
              "      <td>0.005059</td>\n",
              "      <td>...</td>\n",
              "      <td>0.182419</td>\n",
              "      <td>0.014948</td>\n",
              "      <td>0.004136</td>\n",
              "      <td>1.383910e-03</td>\n",
              "      <td>0.056963</td>\n",
              "      <td>0.341106</td>\n",
              "      <td>0.289642</td>\n",
              "      <td>0.005210</td>\n",
              "      <td>0.308589</td>\n",
              "      <td>0.731975</td>\n",
              "      <td>0.329740</td>\n",
              "      <td>0.023947</td>\n",
              "      <td>0.931065</td>\n",
              "      <td>0.002226</td>\n",
              "      <td>0.025516</td>\n",
              "      <td>1.065198e-04</td>\n",
              "      <td>7.700000e+09</td>\n",
              "      <td>0.593916</td>\n",
              "      <td>2.490000e+09</td>\n",
              "      <td>0.671570</td>\n",
              "      <td>0.468828</td>\n",
              "      <td>0.308589</td>\n",
              "      <td>0.329740</td>\n",
              "      <td>0.120916</td>\n",
              "      <td>0.641100</td>\n",
              "      <td>0.459001</td>\n",
              "      <td>0.567101</td>\n",
              "      <td>0.314163</td>\n",
              "      <td>0.047775</td>\n",
              "      <td>0</td>\n",
              "      <td>0.795297</td>\n",
              "      <td>0.008323</td>\n",
              "      <td>0.623652</td>\n",
              "      <td>0.610237</td>\n",
              "      <td>0.839969</td>\n",
              "      <td>0.283846</td>\n",
              "      <td>0.264577</td>\n",
              "      <td>0.570175</td>\n",
              "      <td>1</td>\n",
              "      <td>0.020794</td>\n",
              "    </tr>\n",
              "    <tr>\n",
              "      <th>2</th>\n",
              "      <td>1</td>\n",
              "      <td>0.426071</td>\n",
              "      <td>0.499019</td>\n",
              "      <td>0.472295</td>\n",
              "      <td>0.601450</td>\n",
              "      <td>0.601364</td>\n",
              "      <td>0.998857</td>\n",
              "      <td>0.796403</td>\n",
              "      <td>0.808388</td>\n",
              "      <td>0.302035</td>\n",
              "      <td>0.780284</td>\n",
              "      <td>2.361297e-04</td>\n",
              "      <td>25500000.0</td>\n",
              "      <td>0.458521</td>\n",
              "      <td>0.000790</td>\n",
              "      <td>0.0</td>\n",
              "      <td>0.177911</td>\n",
              "      <td>0.177911</td>\n",
              "      <td>0.193713</td>\n",
              "      <td>0.180581</td>\n",
              "      <td>0.307102</td>\n",
              "      <td>0.005944</td>\n",
              "      <td>0.092338</td>\n",
              "      <td>0.142803</td>\n",
              "      <td>0.022760</td>\n",
              "      <td>0.848094</td>\n",
              "      <td>0.689463</td>\n",
              "      <td>0.689470</td>\n",
              "      <td>0.217601</td>\n",
              "      <td>7.280000e+09</td>\n",
              "      <td>0.000396</td>\n",
              "      <td>0.264184</td>\n",
              "      <td>0.368913</td>\n",
              "      <td>0.011543</td>\n",
              "      <td>0.005348</td>\n",
              "      <td>0.629631</td>\n",
              "      <td>0.021248</td>\n",
              "      <td>0.207516</td>\n",
              "      <td>0.792484</td>\n",
              "      <td>0.005100</td>\n",
              "      <td>...</td>\n",
              "      <td>0.602806</td>\n",
              "      <td>0.000991</td>\n",
              "      <td>0.006302</td>\n",
              "      <td>5.340000e+09</td>\n",
              "      <td>0.098162</td>\n",
              "      <td>0.336731</td>\n",
              "      <td>0.277456</td>\n",
              "      <td>0.013879</td>\n",
              "      <td>0.446027</td>\n",
              "      <td>0.742729</td>\n",
              "      <td>0.334777</td>\n",
              "      <td>0.003715</td>\n",
              "      <td>0.909903</td>\n",
              "      <td>0.002060</td>\n",
              "      <td>0.021387</td>\n",
              "      <td>1.791094e-03</td>\n",
              "      <td>1.022676e-03</td>\n",
              "      <td>0.594502</td>\n",
              "      <td>7.610000e+08</td>\n",
              "      <td>0.671571</td>\n",
              "      <td>0.276179</td>\n",
              "      <td>0.446027</td>\n",
              "      <td>0.334777</td>\n",
              "      <td>0.117922</td>\n",
              "      <td>0.642765</td>\n",
              "      <td>0.459254</td>\n",
              "      <td>0.538491</td>\n",
              "      <td>0.314515</td>\n",
              "      <td>0.025346</td>\n",
              "      <td>0</td>\n",
              "      <td>0.774670</td>\n",
              "      <td>0.040003</td>\n",
              "      <td>0.623841</td>\n",
              "      <td>0.601449</td>\n",
              "      <td>0.836774</td>\n",
              "      <td>0.290189</td>\n",
              "      <td>0.026555</td>\n",
              "      <td>0.563706</td>\n",
              "      <td>1</td>\n",
              "      <td>0.016474</td>\n",
              "    </tr>\n",
              "    <tr>\n",
              "      <th>3</th>\n",
              "      <td>1</td>\n",
              "      <td>0.399844</td>\n",
              "      <td>0.451265</td>\n",
              "      <td>0.457733</td>\n",
              "      <td>0.583541</td>\n",
              "      <td>0.583541</td>\n",
              "      <td>0.998700</td>\n",
              "      <td>0.796967</td>\n",
              "      <td>0.808966</td>\n",
              "      <td>0.303350</td>\n",
              "      <td>0.781241</td>\n",
              "      <td>1.078888e-04</td>\n",
              "      <td>0.0</td>\n",
              "      <td>0.465705</td>\n",
              "      <td>0.000449</td>\n",
              "      <td>0.0</td>\n",
              "      <td>0.154187</td>\n",
              "      <td>0.154187</td>\n",
              "      <td>0.154187</td>\n",
              "      <td>0.193722</td>\n",
              "      <td>0.321674</td>\n",
              "      <td>0.014368</td>\n",
              "      <td>0.077762</td>\n",
              "      <td>0.148603</td>\n",
              "      <td>0.022046</td>\n",
              "      <td>0.848005</td>\n",
              "      <td>0.689110</td>\n",
              "      <td>0.689110</td>\n",
              "      <td>0.217568</td>\n",
              "      <td>4.880000e+09</td>\n",
              "      <td>0.000382</td>\n",
              "      <td>0.263371</td>\n",
              "      <td>0.384077</td>\n",
              "      <td>0.004194</td>\n",
              "      <td>0.002896</td>\n",
              "      <td>0.630228</td>\n",
              "      <td>0.009572</td>\n",
              "      <td>0.151465</td>\n",
              "      <td>0.848535</td>\n",
              "      <td>0.005047</td>\n",
              "      <td>...</td>\n",
              "      <td>0.225815</td>\n",
              "      <td>0.018851</td>\n",
              "      <td>0.002961</td>\n",
              "      <td>1.010646e-03</td>\n",
              "      <td>0.098715</td>\n",
              "      <td>0.348716</td>\n",
              "      <td>0.276580</td>\n",
              "      <td>0.003540</td>\n",
              "      <td>0.615848</td>\n",
              "      <td>0.729825</td>\n",
              "      <td>0.331509</td>\n",
              "      <td>0.022165</td>\n",
              "      <td>0.906902</td>\n",
              "      <td>0.001831</td>\n",
              "      <td>0.024161</td>\n",
              "      <td>8.140000e+09</td>\n",
              "      <td>6.050000e+09</td>\n",
              "      <td>0.593889</td>\n",
              "      <td>2.030000e+09</td>\n",
              "      <td>0.671519</td>\n",
              "      <td>0.559144</td>\n",
              "      <td>0.615848</td>\n",
              "      <td>0.331509</td>\n",
              "      <td>0.120760</td>\n",
              "      <td>0.579039</td>\n",
              "      <td>0.448518</td>\n",
              "      <td>0.604105</td>\n",
              "      <td>0.302382</td>\n",
              "      <td>0.067250</td>\n",
              "      <td>0</td>\n",
              "      <td>0.739555</td>\n",
              "      <td>0.003252</td>\n",
              "      <td>0.622929</td>\n",
              "      <td>0.583538</td>\n",
              "      <td>0.834697</td>\n",
              "      <td>0.281721</td>\n",
              "      <td>0.026697</td>\n",
              "      <td>0.564663</td>\n",
              "      <td>1</td>\n",
              "      <td>0.023982</td>\n",
              "    </tr>\n",
              "    <tr>\n",
              "      <th>4</th>\n",
              "      <td>1</td>\n",
              "      <td>0.465022</td>\n",
              "      <td>0.538432</td>\n",
              "      <td>0.522298</td>\n",
              "      <td>0.598783</td>\n",
              "      <td>0.598783</td>\n",
              "      <td>0.998973</td>\n",
              "      <td>0.797366</td>\n",
              "      <td>0.809304</td>\n",
              "      <td>0.303475</td>\n",
              "      <td>0.781550</td>\n",
              "      <td>7.890000e+09</td>\n",
              "      <td>0.0</td>\n",
              "      <td>0.462746</td>\n",
              "      <td>0.000686</td>\n",
              "      <td>0.0</td>\n",
              "      <td>0.167502</td>\n",
              "      <td>0.167502</td>\n",
              "      <td>0.167502</td>\n",
              "      <td>0.212537</td>\n",
              "      <td>0.319162</td>\n",
              "      <td>0.029690</td>\n",
              "      <td>0.096898</td>\n",
              "      <td>0.168412</td>\n",
              "      <td>0.022096</td>\n",
              "      <td>0.848258</td>\n",
              "      <td>0.689697</td>\n",
              "      <td>0.689697</td>\n",
              "      <td>0.217626</td>\n",
              "      <td>5.510000e+09</td>\n",
              "      <td>0.000439</td>\n",
              "      <td>0.265218</td>\n",
              "      <td>0.379690</td>\n",
              "      <td>0.006022</td>\n",
              "      <td>0.003727</td>\n",
              "      <td>0.636055</td>\n",
              "      <td>0.005150</td>\n",
              "      <td>0.106509</td>\n",
              "      <td>0.893491</td>\n",
              "      <td>0.005303</td>\n",
              "      <td>...</td>\n",
              "      <td>0.358380</td>\n",
              "      <td>0.014161</td>\n",
              "      <td>0.004275</td>\n",
              "      <td>6.804636e-04</td>\n",
              "      <td>0.110195</td>\n",
              "      <td>0.344639</td>\n",
              "      <td>0.287913</td>\n",
              "      <td>0.004869</td>\n",
              "      <td>0.975007</td>\n",
              "      <td>0.732000</td>\n",
              "      <td>0.330726</td>\n",
              "      <td>0.000000</td>\n",
              "      <td>0.913850</td>\n",
              "      <td>0.002224</td>\n",
              "      <td>0.026385</td>\n",
              "      <td>6.680000e+09</td>\n",
              "      <td>5.050000e+09</td>\n",
              "      <td>0.593915</td>\n",
              "      <td>8.240000e+08</td>\n",
              "      <td>0.671563</td>\n",
              "      <td>0.309555</td>\n",
              "      <td>0.975007</td>\n",
              "      <td>0.330726</td>\n",
              "      <td>0.110933</td>\n",
              "      <td>0.622374</td>\n",
              "      <td>0.454411</td>\n",
              "      <td>0.578469</td>\n",
              "      <td>0.311567</td>\n",
              "      <td>0.047725</td>\n",
              "      <td>0</td>\n",
              "      <td>0.795016</td>\n",
              "      <td>0.003878</td>\n",
              "      <td>0.623521</td>\n",
              "      <td>0.598782</td>\n",
              "      <td>0.839973</td>\n",
              "      <td>0.278514</td>\n",
              "      <td>0.024752</td>\n",
              "      <td>0.575617</td>\n",
              "      <td>1</td>\n",
              "      <td>0.035490</td>\n",
              "    </tr>\n",
              "  </tbody>\n",
              "</table>\n",
              "<p>5 rows × 96 columns</p>\n",
              "</div>"
            ],
            "text/plain": [
              "   Bankrupt?  ...  Equity To Liability\n",
              "0          1  ...             0.016469\n",
              "1          1  ...             0.020794\n",
              "2          1  ...             0.016474\n",
              "3          1  ...             0.023982\n",
              "4          1  ...             0.035490\n",
              "\n",
              "[5 rows x 96 columns]"
            ]
          },
          "metadata": {},
          "execution_count": 6
        }
      ]
    },
    {
      "cell_type": "markdown",
      "metadata": {
        "id": "Lk4Cq23vbX74"
      },
      "source": [
        "# Function draw Figure\n"
      ]
    },
    {
      "cell_type": "code",
      "metadata": {
        "id": "FAT8P6wkbaJH"
      },
      "source": [
        "def corrbargraph(data, x_value, y_value):\n",
        "    '''\n",
        "    Figure: Correlation Bar\n",
        "    '''\n",
        "    plt.figure(figsize=(15,8))\n",
        "    for i in range(1,7):\n",
        "        plt.subplot(2,3,i)\n",
        "        sns.barplot(x = x_value, y = y_value[i-1],data = data)\n",
        "    plt.tight_layout(pad=0.5)\n",
        "\n",
        "def plot_confusion_matrix(cm, classes, normalize=False, title='Confusion matrix', cmap=plt.cm.Blues):\n",
        "    \"\"\"\n",
        "    This function prints and plots the confusion matrix.\n",
        "    Normalization can be applied by setting `normalize=True`.\n",
        "    \"\"\"\n",
        "    if normalize:\n",
        "        cm = cm.astype('float') / cm.sum(axis=1)[:, np.newaxis]\n",
        "        print(\"Normalized confusion matrix\")\n",
        "    else:\n",
        "        print('Confusion matrix, without normalization')\n",
        "\n",
        "    print(cm)\n",
        "\n",
        "    plt.imshow(cm, interpolation='nearest', cmap=cmap)\n",
        "    plt.title(title, fontsize=14)\n",
        "    plt.colorbar()\n",
        "    tick_marks = np.arange(len(classes))\n",
        "    plt.xticks(tick_marks, classes, rotation=45)\n",
        "    plt.yticks(tick_marks, classes)\n",
        "\n",
        "    fmt = '.2f' if normalize else 'd'\n",
        "    thresh = cm.max() / 2.\n",
        "    for i, j in itertools.product(range(cm.shape[0]), range(cm.shape[1])):\n",
        "        plt.text(j, i, format(cm[i, j], fmt),\n",
        "                 horizontalalignment=\"center\",\n",
        "                 color=\"white\" if cm[i, j] > thresh else \"black\")\n",
        "\n",
        "    plt.tight_layout()\n",
        "    plt.ylabel('True label')\n",
        "    plt.xlabel('Predicted label')\n"
      ],
      "execution_count": null,
      "outputs": []
    },
    {
      "cell_type": "code",
      "metadata": {
        "colab": {
          "base_uri": "https://localhost:8080/"
        },
        "id": "am5_uRe1RMeH",
        "outputId": "c1e4a3db-d029-4268-9357-4f03cc0eba9f"
      },
      "source": [
        "# Data size\n",
        "data_raw.shape"
      ],
      "execution_count": null,
      "outputs": [
        {
          "output_type": "execute_result",
          "data": {
            "text/plain": [
              "(6819, 96)"
            ]
          },
          "metadata": {},
          "execution_count": 12
        }
      ]
    },
    {
      "cell_type": "code",
      "metadata": {
        "colab": {
          "base_uri": "https://localhost:8080/",
          "height": 431
        },
        "id": "PM2oc9rFPYo1",
        "outputId": "d4701026-11d8-4720-d847-461d60e79ffc"
      },
      "source": [
        "data_raw.describe()"
      ],
      "execution_count": null,
      "outputs": [
        {
          "output_type": "execute_result",
          "data": {
            "text/html": [
              "<div>\n",
              "<style scoped>\n",
              "    .dataframe tbody tr th:only-of-type {\n",
              "        vertical-align: middle;\n",
              "    }\n",
              "\n",
              "    .dataframe tbody tr th {\n",
              "        vertical-align: top;\n",
              "    }\n",
              "\n",
              "    .dataframe thead th {\n",
              "        text-align: right;\n",
              "    }\n",
              "</style>\n",
              "<table border=\"1\" class=\"dataframe\">\n",
              "  <thead>\n",
              "    <tr style=\"text-align: right;\">\n",
              "      <th></th>\n",
              "      <th>Bankrupt?</th>\n",
              "      <th>Roa(C) Before Interest And Depreciation Before Interest</th>\n",
              "      <th>Roa(A) Before Interest And % After Tax</th>\n",
              "      <th>Roa(B) Before Interest And Depreciation After Tax</th>\n",
              "      <th>Operating Gross Margin</th>\n",
              "      <th>Realized Sales Gross Margin</th>\n",
              "      <th>Operating Profit Rate</th>\n",
              "      <th>Pre-Tax Net Interest Rate</th>\n",
              "      <th>After-Tax Net Interest Rate</th>\n",
              "      <th>Non-Industry Income And Expenditure/Revenue</th>\n",
              "      <th>Continuous Interest Rate (After Tax)</th>\n",
              "      <th>Operating Expense Rate</th>\n",
              "      <th>Research And Development Expense Rate</th>\n",
              "      <th>Cash Flow Rate</th>\n",
              "      <th>Interest-Bearing Debt Interest Rate</th>\n",
              "      <th>Tax Rate (A)</th>\n",
              "      <th>Net Value Per Share (B)</th>\n",
              "      <th>Net Value Per Share (A)</th>\n",
              "      <th>Net Value Per Share (C)</th>\n",
              "      <th>Persistent Eps In The Last Four Seasons</th>\n",
              "      <th>Cash Flow Per Share</th>\n",
              "      <th>Revenue Per Share (Yuan ¥)</th>\n",
              "      <th>Operating Profit Per Share (Yuan ¥)</th>\n",
              "      <th>Per Share Net Profit Before Tax (Yuan ¥)</th>\n",
              "      <th>Realized Sales Gross Profit Growth Rate</th>\n",
              "      <th>Operating Profit Growth Rate</th>\n",
              "      <th>After-Tax Net Profit Growth Rate</th>\n",
              "      <th>Regular Net Profit Growth Rate</th>\n",
              "      <th>Continuous Net Profit Growth Rate</th>\n",
              "      <th>Total Asset Growth Rate</th>\n",
              "      <th>Net Value Growth Rate</th>\n",
              "      <th>Total Asset Return Growth Rate Ratio</th>\n",
              "      <th>Cash Reinvestment %</th>\n",
              "      <th>Current Ratio</th>\n",
              "      <th>Quick Ratio</th>\n",
              "      <th>Interest Expense Ratio</th>\n",
              "      <th>Total Debt/Total Net Worth</th>\n",
              "      <th>Debt Ratio %</th>\n",
              "      <th>Net Worth/Assets</th>\n",
              "      <th>Long-Term Fund Suitability Ratio (A)</th>\n",
              "      <th>...</th>\n",
              "      <th>Current Assets/Total Assets</th>\n",
              "      <th>Cash/Total Assets</th>\n",
              "      <th>Quick Assets/Current Liability</th>\n",
              "      <th>Cash/Current Liability</th>\n",
              "      <th>Current Liability To Assets</th>\n",
              "      <th>Operating Funds To Liability</th>\n",
              "      <th>Inventory/Working Capital</th>\n",
              "      <th>Inventory/Current Liability</th>\n",
              "      <th>Current Liabilities/Liability</th>\n",
              "      <th>Working Capital/Equity</th>\n",
              "      <th>Current Liabilities/Equity</th>\n",
              "      <th>Long-Term Liability To Current Assets</th>\n",
              "      <th>Retained Earnings To Total Assets</th>\n",
              "      <th>Total Income/Total Expense</th>\n",
              "      <th>Total Expense/Assets</th>\n",
              "      <th>Current Asset Turnover Rate</th>\n",
              "      <th>Quick Asset Turnover Rate</th>\n",
              "      <th>Working Capitcal Turnover Rate</th>\n",
              "      <th>Cash Turnover Rate</th>\n",
              "      <th>Cash Flow To Sales</th>\n",
              "      <th>Fixed Assets To Assets</th>\n",
              "      <th>Current Liability To Liability</th>\n",
              "      <th>Current Liability To Equity</th>\n",
              "      <th>Equity To Long-Term Liability</th>\n",
              "      <th>Cash Flow To Total Assets</th>\n",
              "      <th>Cash Flow To Liability</th>\n",
              "      <th>Cfo To Assets</th>\n",
              "      <th>Cash Flow To Equity</th>\n",
              "      <th>Current Liability To Current Assets</th>\n",
              "      <th>Liability-Assets Flag</th>\n",
              "      <th>Net Income To Total Assets</th>\n",
              "      <th>Total Assets To Gnp Price</th>\n",
              "      <th>No-Credit Interval</th>\n",
              "      <th>Gross Profit To Sales</th>\n",
              "      <th>Net Income To Stockholder'S Equity</th>\n",
              "      <th>Liability To Equity</th>\n",
              "      <th>Degree Of Financial Leverage (Dfl)</th>\n",
              "      <th>Interest Coverage Ratio (Interest Expense To Ebit)</th>\n",
              "      <th>Net Income Flag</th>\n",
              "      <th>Equity To Liability</th>\n",
              "    </tr>\n",
              "  </thead>\n",
              "  <tbody>\n",
              "    <tr>\n",
              "      <th>count</th>\n",
              "      <td>6819.000000</td>\n",
              "      <td>6819.000000</td>\n",
              "      <td>6819.000000</td>\n",
              "      <td>6819.000000</td>\n",
              "      <td>6819.000000</td>\n",
              "      <td>6819.000000</td>\n",
              "      <td>6819.000000</td>\n",
              "      <td>6819.000000</td>\n",
              "      <td>6819.000000</td>\n",
              "      <td>6819.000000</td>\n",
              "      <td>6819.000000</td>\n",
              "      <td>6.819000e+03</td>\n",
              "      <td>6.819000e+03</td>\n",
              "      <td>6819.000000</td>\n",
              "      <td>6.819000e+03</td>\n",
              "      <td>6819.000000</td>\n",
              "      <td>6819.000000</td>\n",
              "      <td>6819.000000</td>\n",
              "      <td>6819.000000</td>\n",
              "      <td>6819.000000</td>\n",
              "      <td>6819.000000</td>\n",
              "      <td>6.819000e+03</td>\n",
              "      <td>6819.000000</td>\n",
              "      <td>6819.000000</td>\n",
              "      <td>6819.000000</td>\n",
              "      <td>6819.000000</td>\n",
              "      <td>6819.000000</td>\n",
              "      <td>6819.000000</td>\n",
              "      <td>6819.000000</td>\n",
              "      <td>6.819000e+03</td>\n",
              "      <td>6.819000e+03</td>\n",
              "      <td>6819.000000</td>\n",
              "      <td>6819.000000</td>\n",
              "      <td>6.819000e+03</td>\n",
              "      <td>6.819000e+03</td>\n",
              "      <td>6819.000000</td>\n",
              "      <td>6.819000e+03</td>\n",
              "      <td>6819.000000</td>\n",
              "      <td>6819.000000</td>\n",
              "      <td>6819.000000</td>\n",
              "      <td>...</td>\n",
              "      <td>6819.000000</td>\n",
              "      <td>6819.000000</td>\n",
              "      <td>6.819000e+03</td>\n",
              "      <td>6.819000e+03</td>\n",
              "      <td>6819.000000</td>\n",
              "      <td>6819.000000</td>\n",
              "      <td>6819.000000</td>\n",
              "      <td>6.819000e+03</td>\n",
              "      <td>6819.000000</td>\n",
              "      <td>6819.000000</td>\n",
              "      <td>6819.000000</td>\n",
              "      <td>6.819000e+03</td>\n",
              "      <td>6819.000000</td>\n",
              "      <td>6819.000000</td>\n",
              "      <td>6819.000000</td>\n",
              "      <td>6.819000e+03</td>\n",
              "      <td>6.819000e+03</td>\n",
              "      <td>6819.000000</td>\n",
              "      <td>6.819000e+03</td>\n",
              "      <td>6819.000000</td>\n",
              "      <td>6.819000e+03</td>\n",
              "      <td>6819.000000</td>\n",
              "      <td>6819.000000</td>\n",
              "      <td>6819.000000</td>\n",
              "      <td>6819.000000</td>\n",
              "      <td>6819.000000</td>\n",
              "      <td>6819.000000</td>\n",
              "      <td>6819.000000</td>\n",
              "      <td>6819.000000</td>\n",
              "      <td>6819.000000</td>\n",
              "      <td>6819.000000</td>\n",
              "      <td>6.819000e+03</td>\n",
              "      <td>6819.000000</td>\n",
              "      <td>6819.000000</td>\n",
              "      <td>6819.000000</td>\n",
              "      <td>6819.000000</td>\n",
              "      <td>6819.000000</td>\n",
              "      <td>6819.000000</td>\n",
              "      <td>6819.0</td>\n",
              "      <td>6819.000000</td>\n",
              "    </tr>\n",
              "    <tr>\n",
              "      <th>mean</th>\n",
              "      <td>0.032263</td>\n",
              "      <td>0.505180</td>\n",
              "      <td>0.558625</td>\n",
              "      <td>0.553589</td>\n",
              "      <td>0.607948</td>\n",
              "      <td>0.607929</td>\n",
              "      <td>0.998755</td>\n",
              "      <td>0.797190</td>\n",
              "      <td>0.809084</td>\n",
              "      <td>0.303623</td>\n",
              "      <td>0.781381</td>\n",
              "      <td>1.995347e+09</td>\n",
              "      <td>1.950427e+09</td>\n",
              "      <td>0.467431</td>\n",
              "      <td>1.644801e+07</td>\n",
              "      <td>0.115001</td>\n",
              "      <td>0.190661</td>\n",
              "      <td>0.190633</td>\n",
              "      <td>0.190672</td>\n",
              "      <td>0.228813</td>\n",
              "      <td>0.323482</td>\n",
              "      <td>1.328641e+06</td>\n",
              "      <td>0.109091</td>\n",
              "      <td>0.184361</td>\n",
              "      <td>0.022408</td>\n",
              "      <td>0.847980</td>\n",
              "      <td>0.689146</td>\n",
              "      <td>0.689150</td>\n",
              "      <td>0.217639</td>\n",
              "      <td>5.508097e+09</td>\n",
              "      <td>1.566212e+06</td>\n",
              "      <td>0.264248</td>\n",
              "      <td>0.379677</td>\n",
              "      <td>4.032850e+05</td>\n",
              "      <td>8.376595e+06</td>\n",
              "      <td>0.630991</td>\n",
              "      <td>4.416337e+06</td>\n",
              "      <td>0.113177</td>\n",
              "      <td>0.886823</td>\n",
              "      <td>0.008783</td>\n",
              "      <td>...</td>\n",
              "      <td>0.522273</td>\n",
              "      <td>0.124095</td>\n",
              "      <td>3.592902e+06</td>\n",
              "      <td>3.715999e+07</td>\n",
              "      <td>0.090673</td>\n",
              "      <td>0.353828</td>\n",
              "      <td>0.277395</td>\n",
              "      <td>5.580680e+07</td>\n",
              "      <td>0.761599</td>\n",
              "      <td>0.735817</td>\n",
              "      <td>0.331410</td>\n",
              "      <td>5.416004e+07</td>\n",
              "      <td>0.934733</td>\n",
              "      <td>0.002549</td>\n",
              "      <td>0.029184</td>\n",
              "      <td>1.195856e+09</td>\n",
              "      <td>2.163735e+09</td>\n",
              "      <td>0.594006</td>\n",
              "      <td>2.471977e+09</td>\n",
              "      <td>0.671531</td>\n",
              "      <td>1.220121e+06</td>\n",
              "      <td>0.761599</td>\n",
              "      <td>0.331410</td>\n",
              "      <td>0.115645</td>\n",
              "      <td>0.649731</td>\n",
              "      <td>0.461849</td>\n",
              "      <td>0.593415</td>\n",
              "      <td>0.315582</td>\n",
              "      <td>0.031506</td>\n",
              "      <td>0.001173</td>\n",
              "      <td>0.807760</td>\n",
              "      <td>1.862942e+07</td>\n",
              "      <td>0.623915</td>\n",
              "      <td>0.607946</td>\n",
              "      <td>0.840402</td>\n",
              "      <td>0.280365</td>\n",
              "      <td>0.027541</td>\n",
              "      <td>0.565358</td>\n",
              "      <td>1.0</td>\n",
              "      <td>0.047578</td>\n",
              "    </tr>\n",
              "    <tr>\n",
              "      <th>std</th>\n",
              "      <td>0.176710</td>\n",
              "      <td>0.060686</td>\n",
              "      <td>0.065620</td>\n",
              "      <td>0.061595</td>\n",
              "      <td>0.016934</td>\n",
              "      <td>0.016916</td>\n",
              "      <td>0.013010</td>\n",
              "      <td>0.012869</td>\n",
              "      <td>0.013601</td>\n",
              "      <td>0.011163</td>\n",
              "      <td>0.012679</td>\n",
              "      <td>3.237684e+09</td>\n",
              "      <td>2.598292e+09</td>\n",
              "      <td>0.017036</td>\n",
              "      <td>1.082750e+08</td>\n",
              "      <td>0.138667</td>\n",
              "      <td>0.033390</td>\n",
              "      <td>0.033474</td>\n",
              "      <td>0.033480</td>\n",
              "      <td>0.033263</td>\n",
              "      <td>0.017611</td>\n",
              "      <td>5.170709e+07</td>\n",
              "      <td>0.027942</td>\n",
              "      <td>0.033180</td>\n",
              "      <td>0.012079</td>\n",
              "      <td>0.010752</td>\n",
              "      <td>0.013853</td>\n",
              "      <td>0.013910</td>\n",
              "      <td>0.010063</td>\n",
              "      <td>2.897718e+09</td>\n",
              "      <td>1.141594e+08</td>\n",
              "      <td>0.009634</td>\n",
              "      <td>0.020737</td>\n",
              "      <td>3.330216e+07</td>\n",
              "      <td>2.446847e+08</td>\n",
              "      <td>0.011238</td>\n",
              "      <td>1.684069e+08</td>\n",
              "      <td>0.053920</td>\n",
              "      <td>0.053920</td>\n",
              "      <td>0.028153</td>\n",
              "      <td>...</td>\n",
              "      <td>0.218112</td>\n",
              "      <td>0.139251</td>\n",
              "      <td>1.716209e+08</td>\n",
              "      <td>5.103509e+08</td>\n",
              "      <td>0.050290</td>\n",
              "      <td>0.035147</td>\n",
              "      <td>0.010469</td>\n",
              "      <td>5.820516e+08</td>\n",
              "      <td>0.206677</td>\n",
              "      <td>0.011678</td>\n",
              "      <td>0.013488</td>\n",
              "      <td>5.702706e+08</td>\n",
              "      <td>0.025564</td>\n",
              "      <td>0.012093</td>\n",
              "      <td>0.027149</td>\n",
              "      <td>2.821161e+09</td>\n",
              "      <td>3.374944e+09</td>\n",
              "      <td>0.008959</td>\n",
              "      <td>2.938623e+09</td>\n",
              "      <td>0.009341</td>\n",
              "      <td>1.007542e+08</td>\n",
              "      <td>0.206677</td>\n",
              "      <td>0.013488</td>\n",
              "      <td>0.019529</td>\n",
              "      <td>0.047372</td>\n",
              "      <td>0.029943</td>\n",
              "      <td>0.058561</td>\n",
              "      <td>0.012961</td>\n",
              "      <td>0.030845</td>\n",
              "      <td>0.034234</td>\n",
              "      <td>0.040332</td>\n",
              "      <td>3.764501e+08</td>\n",
              "      <td>0.012290</td>\n",
              "      <td>0.016934</td>\n",
              "      <td>0.014523</td>\n",
              "      <td>0.014463</td>\n",
              "      <td>0.015668</td>\n",
              "      <td>0.013214</td>\n",
              "      <td>0.0</td>\n",
              "      <td>0.050014</td>\n",
              "    </tr>\n",
              "    <tr>\n",
              "      <th>min</th>\n",
              "      <td>0.000000</td>\n",
              "      <td>0.000000</td>\n",
              "      <td>0.000000</td>\n",
              "      <td>0.000000</td>\n",
              "      <td>0.000000</td>\n",
              "      <td>0.000000</td>\n",
              "      <td>0.000000</td>\n",
              "      <td>0.000000</td>\n",
              "      <td>0.000000</td>\n",
              "      <td>0.000000</td>\n",
              "      <td>0.000000</td>\n",
              "      <td>0.000000e+00</td>\n",
              "      <td>0.000000e+00</td>\n",
              "      <td>0.000000</td>\n",
              "      <td>0.000000e+00</td>\n",
              "      <td>0.000000</td>\n",
              "      <td>0.000000</td>\n",
              "      <td>0.000000</td>\n",
              "      <td>0.000000</td>\n",
              "      <td>0.000000</td>\n",
              "      <td>0.000000</td>\n",
              "      <td>0.000000e+00</td>\n",
              "      <td>0.000000</td>\n",
              "      <td>0.000000</td>\n",
              "      <td>0.000000</td>\n",
              "      <td>0.000000</td>\n",
              "      <td>0.000000</td>\n",
              "      <td>0.000000</td>\n",
              "      <td>0.000000</td>\n",
              "      <td>0.000000e+00</td>\n",
              "      <td>0.000000e+00</td>\n",
              "      <td>0.000000</td>\n",
              "      <td>0.000000</td>\n",
              "      <td>0.000000e+00</td>\n",
              "      <td>0.000000e+00</td>\n",
              "      <td>0.000000</td>\n",
              "      <td>0.000000e+00</td>\n",
              "      <td>0.000000</td>\n",
              "      <td>0.000000</td>\n",
              "      <td>0.000000</td>\n",
              "      <td>...</td>\n",
              "      <td>0.000000</td>\n",
              "      <td>0.000000</td>\n",
              "      <td>0.000000e+00</td>\n",
              "      <td>0.000000e+00</td>\n",
              "      <td>0.000000</td>\n",
              "      <td>0.000000</td>\n",
              "      <td>0.000000</td>\n",
              "      <td>0.000000e+00</td>\n",
              "      <td>0.000000</td>\n",
              "      <td>0.000000</td>\n",
              "      <td>0.000000</td>\n",
              "      <td>0.000000e+00</td>\n",
              "      <td>0.000000</td>\n",
              "      <td>0.000000</td>\n",
              "      <td>0.000000</td>\n",
              "      <td>0.000000e+00</td>\n",
              "      <td>0.000000e+00</td>\n",
              "      <td>0.000000</td>\n",
              "      <td>0.000000e+00</td>\n",
              "      <td>0.000000</td>\n",
              "      <td>0.000000e+00</td>\n",
              "      <td>0.000000</td>\n",
              "      <td>0.000000</td>\n",
              "      <td>0.000000</td>\n",
              "      <td>0.000000</td>\n",
              "      <td>0.000000</td>\n",
              "      <td>0.000000</td>\n",
              "      <td>0.000000</td>\n",
              "      <td>0.000000</td>\n",
              "      <td>0.000000</td>\n",
              "      <td>0.000000</td>\n",
              "      <td>0.000000e+00</td>\n",
              "      <td>0.000000</td>\n",
              "      <td>0.000000</td>\n",
              "      <td>0.000000</td>\n",
              "      <td>0.000000</td>\n",
              "      <td>0.000000</td>\n",
              "      <td>0.000000</td>\n",
              "      <td>1.0</td>\n",
              "      <td>0.000000</td>\n",
              "    </tr>\n",
              "    <tr>\n",
              "      <th>25%</th>\n",
              "      <td>0.000000</td>\n",
              "      <td>0.476527</td>\n",
              "      <td>0.535543</td>\n",
              "      <td>0.527277</td>\n",
              "      <td>0.600445</td>\n",
              "      <td>0.600434</td>\n",
              "      <td>0.998969</td>\n",
              "      <td>0.797386</td>\n",
              "      <td>0.809312</td>\n",
              "      <td>0.303466</td>\n",
              "      <td>0.781567</td>\n",
              "      <td>1.566874e-04</td>\n",
              "      <td>1.281880e-04</td>\n",
              "      <td>0.461558</td>\n",
              "      <td>2.030203e-04</td>\n",
              "      <td>0.000000</td>\n",
              "      <td>0.173613</td>\n",
              "      <td>0.173613</td>\n",
              "      <td>0.173676</td>\n",
              "      <td>0.214711</td>\n",
              "      <td>0.317748</td>\n",
              "      <td>1.563138e-02</td>\n",
              "      <td>0.096083</td>\n",
              "      <td>0.170370</td>\n",
              "      <td>0.022065</td>\n",
              "      <td>0.847984</td>\n",
              "      <td>0.689270</td>\n",
              "      <td>0.689270</td>\n",
              "      <td>0.217580</td>\n",
              "      <td>4.860000e+09</td>\n",
              "      <td>4.409689e-04</td>\n",
              "      <td>0.263759</td>\n",
              "      <td>0.374749</td>\n",
              "      <td>7.555047e-03</td>\n",
              "      <td>4.725903e-03</td>\n",
              "      <td>0.630612</td>\n",
              "      <td>3.007049e-03</td>\n",
              "      <td>0.072891</td>\n",
              "      <td>0.851196</td>\n",
              "      <td>0.005244</td>\n",
              "      <td>...</td>\n",
              "      <td>0.352845</td>\n",
              "      <td>0.033543</td>\n",
              "      <td>5.239776e-03</td>\n",
              "      <td>1.973008e-03</td>\n",
              "      <td>0.053301</td>\n",
              "      <td>0.341023</td>\n",
              "      <td>0.277034</td>\n",
              "      <td>3.163148e-03</td>\n",
              "      <td>0.626981</td>\n",
              "      <td>0.733612</td>\n",
              "      <td>0.328096</td>\n",
              "      <td>0.000000e+00</td>\n",
              "      <td>0.931097</td>\n",
              "      <td>0.002236</td>\n",
              "      <td>0.014567</td>\n",
              "      <td>1.456236e-04</td>\n",
              "      <td>1.417149e-04</td>\n",
              "      <td>0.593934</td>\n",
              "      <td>2.735337e-04</td>\n",
              "      <td>0.671565</td>\n",
              "      <td>8.536037e-02</td>\n",
              "      <td>0.626981</td>\n",
              "      <td>0.328096</td>\n",
              "      <td>0.110933</td>\n",
              "      <td>0.633265</td>\n",
              "      <td>0.457116</td>\n",
              "      <td>0.565987</td>\n",
              "      <td>0.312995</td>\n",
              "      <td>0.018034</td>\n",
              "      <td>0.000000</td>\n",
              "      <td>0.796750</td>\n",
              "      <td>9.036205e-04</td>\n",
              "      <td>0.623636</td>\n",
              "      <td>0.600443</td>\n",
              "      <td>0.840115</td>\n",
              "      <td>0.276944</td>\n",
              "      <td>0.026791</td>\n",
              "      <td>0.565158</td>\n",
              "      <td>1.0</td>\n",
              "      <td>0.024477</td>\n",
              "    </tr>\n",
              "    <tr>\n",
              "      <th>50%</th>\n",
              "      <td>0.000000</td>\n",
              "      <td>0.502706</td>\n",
              "      <td>0.559802</td>\n",
              "      <td>0.552278</td>\n",
              "      <td>0.605997</td>\n",
              "      <td>0.605976</td>\n",
              "      <td>0.999022</td>\n",
              "      <td>0.797464</td>\n",
              "      <td>0.809375</td>\n",
              "      <td>0.303525</td>\n",
              "      <td>0.781635</td>\n",
              "      <td>2.777589e-04</td>\n",
              "      <td>5.090000e+08</td>\n",
              "      <td>0.465080</td>\n",
              "      <td>3.210321e-04</td>\n",
              "      <td>0.073489</td>\n",
              "      <td>0.184400</td>\n",
              "      <td>0.184400</td>\n",
              "      <td>0.184400</td>\n",
              "      <td>0.224544</td>\n",
              "      <td>0.322487</td>\n",
              "      <td>2.737571e-02</td>\n",
              "      <td>0.104226</td>\n",
              "      <td>0.179709</td>\n",
              "      <td>0.022102</td>\n",
              "      <td>0.848044</td>\n",
              "      <td>0.689439</td>\n",
              "      <td>0.689439</td>\n",
              "      <td>0.217598</td>\n",
              "      <td>6.400000e+09</td>\n",
              "      <td>4.619555e-04</td>\n",
              "      <td>0.264050</td>\n",
              "      <td>0.380425</td>\n",
              "      <td>1.058717e-02</td>\n",
              "      <td>7.412472e-03</td>\n",
              "      <td>0.630698</td>\n",
              "      <td>5.546284e-03</td>\n",
              "      <td>0.111407</td>\n",
              "      <td>0.888593</td>\n",
              "      <td>0.005665</td>\n",
              "      <td>...</td>\n",
              "      <td>0.514830</td>\n",
              "      <td>0.074887</td>\n",
              "      <td>7.908898e-03</td>\n",
              "      <td>4.903886e-03</td>\n",
              "      <td>0.082705</td>\n",
              "      <td>0.348597</td>\n",
              "      <td>0.277178</td>\n",
              "      <td>6.497335e-03</td>\n",
              "      <td>0.806881</td>\n",
              "      <td>0.736013</td>\n",
              "      <td>0.329685</td>\n",
              "      <td>1.974619e-03</td>\n",
              "      <td>0.937672</td>\n",
              "      <td>0.002336</td>\n",
              "      <td>0.022674</td>\n",
              "      <td>1.987816e-04</td>\n",
              "      <td>2.247728e-04</td>\n",
              "      <td>0.593963</td>\n",
              "      <td>1.080000e+09</td>\n",
              "      <td>0.671574</td>\n",
              "      <td>1.968810e-01</td>\n",
              "      <td>0.806881</td>\n",
              "      <td>0.329685</td>\n",
              "      <td>0.112340</td>\n",
              "      <td>0.645366</td>\n",
              "      <td>0.459750</td>\n",
              "      <td>0.593266</td>\n",
              "      <td>0.314953</td>\n",
              "      <td>0.027597</td>\n",
              "      <td>0.000000</td>\n",
              "      <td>0.810619</td>\n",
              "      <td>2.085213e-03</td>\n",
              "      <td>0.623879</td>\n",
              "      <td>0.605998</td>\n",
              "      <td>0.841179</td>\n",
              "      <td>0.278778</td>\n",
              "      <td>0.026808</td>\n",
              "      <td>0.565252</td>\n",
              "      <td>1.0</td>\n",
              "      <td>0.033798</td>\n",
              "    </tr>\n",
              "    <tr>\n",
              "      <th>75%</th>\n",
              "      <td>0.000000</td>\n",
              "      <td>0.535563</td>\n",
              "      <td>0.589157</td>\n",
              "      <td>0.584105</td>\n",
              "      <td>0.613914</td>\n",
              "      <td>0.613842</td>\n",
              "      <td>0.999095</td>\n",
              "      <td>0.797579</td>\n",
              "      <td>0.809469</td>\n",
              "      <td>0.303585</td>\n",
              "      <td>0.781735</td>\n",
              "      <td>4.145000e+09</td>\n",
              "      <td>3.450000e+09</td>\n",
              "      <td>0.471004</td>\n",
              "      <td>5.325533e-04</td>\n",
              "      <td>0.205841</td>\n",
              "      <td>0.199570</td>\n",
              "      <td>0.199570</td>\n",
              "      <td>0.199612</td>\n",
              "      <td>0.238820</td>\n",
              "      <td>0.328623</td>\n",
              "      <td>4.635722e-02</td>\n",
              "      <td>0.116155</td>\n",
              "      <td>0.193493</td>\n",
              "      <td>0.022153</td>\n",
              "      <td>0.848123</td>\n",
              "      <td>0.689647</td>\n",
              "      <td>0.689647</td>\n",
              "      <td>0.217622</td>\n",
              "      <td>7.390000e+09</td>\n",
              "      <td>4.993621e-04</td>\n",
              "      <td>0.264388</td>\n",
              "      <td>0.386731</td>\n",
              "      <td>1.626953e-02</td>\n",
              "      <td>1.224911e-02</td>\n",
              "      <td>0.631125</td>\n",
              "      <td>9.273293e-03</td>\n",
              "      <td>0.148804</td>\n",
              "      <td>0.927109</td>\n",
              "      <td>0.006847</td>\n",
              "      <td>...</td>\n",
              "      <td>0.689051</td>\n",
              "      <td>0.161073</td>\n",
              "      <td>1.295091e-02</td>\n",
              "      <td>1.280557e-02</td>\n",
              "      <td>0.119523</td>\n",
              "      <td>0.360915</td>\n",
              "      <td>0.277429</td>\n",
              "      <td>1.114677e-02</td>\n",
              "      <td>0.942027</td>\n",
              "      <td>0.738560</td>\n",
              "      <td>0.332322</td>\n",
              "      <td>9.005946e-03</td>\n",
              "      <td>0.944811</td>\n",
              "      <td>0.002492</td>\n",
              "      <td>0.035930</td>\n",
              "      <td>4.525945e-04</td>\n",
              "      <td>4.900000e+09</td>\n",
              "      <td>0.594002</td>\n",
              "      <td>4.510000e+09</td>\n",
              "      <td>0.671587</td>\n",
              "      <td>3.722000e-01</td>\n",
              "      <td>0.942027</td>\n",
              "      <td>0.332322</td>\n",
              "      <td>0.117106</td>\n",
              "      <td>0.663062</td>\n",
              "      <td>0.464236</td>\n",
              "      <td>0.624769</td>\n",
              "      <td>0.317707</td>\n",
              "      <td>0.038375</td>\n",
              "      <td>0.000000</td>\n",
              "      <td>0.826455</td>\n",
              "      <td>5.269777e-03</td>\n",
              "      <td>0.624168</td>\n",
              "      <td>0.613913</td>\n",
              "      <td>0.842357</td>\n",
              "      <td>0.281449</td>\n",
              "      <td>0.026913</td>\n",
              "      <td>0.565725</td>\n",
              "      <td>1.0</td>\n",
              "      <td>0.052838</td>\n",
              "    </tr>\n",
              "    <tr>\n",
              "      <th>max</th>\n",
              "      <td>1.000000</td>\n",
              "      <td>1.000000</td>\n",
              "      <td>1.000000</td>\n",
              "      <td>1.000000</td>\n",
              "      <td>1.000000</td>\n",
              "      <td>1.000000</td>\n",
              "      <td>1.000000</td>\n",
              "      <td>1.000000</td>\n",
              "      <td>1.000000</td>\n",
              "      <td>1.000000</td>\n",
              "      <td>1.000000</td>\n",
              "      <td>9.990000e+09</td>\n",
              "      <td>9.980000e+09</td>\n",
              "      <td>1.000000</td>\n",
              "      <td>9.900000e+08</td>\n",
              "      <td>1.000000</td>\n",
              "      <td>1.000000</td>\n",
              "      <td>1.000000</td>\n",
              "      <td>1.000000</td>\n",
              "      <td>1.000000</td>\n",
              "      <td>1.000000</td>\n",
              "      <td>3.020000e+09</td>\n",
              "      <td>1.000000</td>\n",
              "      <td>1.000000</td>\n",
              "      <td>1.000000</td>\n",
              "      <td>1.000000</td>\n",
              "      <td>1.000000</td>\n",
              "      <td>1.000000</td>\n",
              "      <td>1.000000</td>\n",
              "      <td>9.990000e+09</td>\n",
              "      <td>9.330000e+09</td>\n",
              "      <td>1.000000</td>\n",
              "      <td>1.000000</td>\n",
              "      <td>2.750000e+09</td>\n",
              "      <td>9.230000e+09</td>\n",
              "      <td>1.000000</td>\n",
              "      <td>9.940000e+09</td>\n",
              "      <td>1.000000</td>\n",
              "      <td>1.000000</td>\n",
              "      <td>1.000000</td>\n",
              "      <td>...</td>\n",
              "      <td>1.000000</td>\n",
              "      <td>1.000000</td>\n",
              "      <td>8.820000e+09</td>\n",
              "      <td>9.650000e+09</td>\n",
              "      <td>1.000000</td>\n",
              "      <td>1.000000</td>\n",
              "      <td>1.000000</td>\n",
              "      <td>9.910000e+09</td>\n",
              "      <td>1.000000</td>\n",
              "      <td>1.000000</td>\n",
              "      <td>1.000000</td>\n",
              "      <td>9.540000e+09</td>\n",
              "      <td>1.000000</td>\n",
              "      <td>1.000000</td>\n",
              "      <td>1.000000</td>\n",
              "      <td>1.000000e+10</td>\n",
              "      <td>1.000000e+10</td>\n",
              "      <td>1.000000</td>\n",
              "      <td>1.000000e+10</td>\n",
              "      <td>1.000000</td>\n",
              "      <td>8.320000e+09</td>\n",
              "      <td>1.000000</td>\n",
              "      <td>1.000000</td>\n",
              "      <td>1.000000</td>\n",
              "      <td>1.000000</td>\n",
              "      <td>1.000000</td>\n",
              "      <td>1.000000</td>\n",
              "      <td>1.000000</td>\n",
              "      <td>1.000000</td>\n",
              "      <td>1.000000</td>\n",
              "      <td>1.000000</td>\n",
              "      <td>9.820000e+09</td>\n",
              "      <td>1.000000</td>\n",
              "      <td>1.000000</td>\n",
              "      <td>1.000000</td>\n",
              "      <td>1.000000</td>\n",
              "      <td>1.000000</td>\n",
              "      <td>1.000000</td>\n",
              "      <td>1.0</td>\n",
              "      <td>1.000000</td>\n",
              "    </tr>\n",
              "  </tbody>\n",
              "</table>\n",
              "<p>8 rows × 96 columns</p>\n",
              "</div>"
            ],
            "text/plain": [
              "         Bankrupt?  ...  Equity To Liability\n",
              "count  6819.000000  ...          6819.000000\n",
              "mean      0.032263  ...             0.047578\n",
              "std       0.176710  ...             0.050014\n",
              "min       0.000000  ...             0.000000\n",
              "25%       0.000000  ...             0.024477\n",
              "50%       0.000000  ...             0.033798\n",
              "75%       0.000000  ...             0.052838\n",
              "max       1.000000  ...             1.000000\n",
              "\n",
              "[8 rows x 96 columns]"
            ]
          },
          "metadata": {},
          "execution_count": 7
        }
      ]
    },
    {
      "cell_type": "code",
      "metadata": {
        "colab": {
          "base_uri": "https://localhost:8080/"
        },
        "id": "T5iMljo7RDqH",
        "outputId": "3c641580-57e0-4864-cf59-667670b150b6"
      },
      "source": [
        "# Data type\n",
        "data_raw.dtypes"
      ],
      "execution_count": null,
      "outputs": [
        {
          "output_type": "execute_result",
          "data": {
            "text/plain": [
              "Bankrupt?                                                    int64\n",
              "Roa(C) Before Interest And Depreciation Before Interest    float64\n",
              "Roa(A) Before Interest And % After Tax                     float64\n",
              "Roa(B) Before Interest And Depreciation After Tax          float64\n",
              "Operating Gross Margin                                     float64\n",
              "                                                            ...   \n",
              "Liability To Equity                                        float64\n",
              "Degree Of Financial Leverage (Dfl)                         float64\n",
              "Interest Coverage Ratio (Interest Expense To Ebit)         float64\n",
              "Net Income Flag                                              int64\n",
              "Equity To Liability                                        float64\n",
              "Length: 96, dtype: object"
            ]
          },
          "metadata": {},
          "execution_count": 41
        }
      ]
    },
    {
      "cell_type": "code",
      "metadata": {
        "colab": {
          "base_uri": "https://localhost:8080/"
        },
        "id": "X93IOUyTPzRy",
        "outputId": "eca854af-5836-4152-c7b7-6675feb3af67"
      },
      "source": [
        "# Check exists data null\n",
        "data_raw.isnull().sum().max()"
      ],
      "execution_count": null,
      "outputs": [
        {
          "output_type": "execute_result",
          "data": {
            "text/plain": [
              "0"
            ]
          },
          "metadata": {},
          "execution_count": 8
        }
      ]
    },
    {
      "cell_type": "markdown",
      "metadata": {
        "id": "OTXlVEjyQUmd"
      },
      "source": [
        "**Perfect: Since there are no missing values**"
      ]
    },
    {
      "cell_type": "markdown",
      "metadata": {
        "id": "4xTdxfO8Rb6d"
      },
      "source": [
        "# Data Visualization"
      ]
    },
    {
      "cell_type": "code",
      "metadata": {
        "colab": {
          "base_uri": "https://localhost:8080/",
          "height": 407
        },
        "id": "LlMDOr9URc1N",
        "outputId": "d73c8a55-ab67-4e1b-ec1a-1c923300a7be"
      },
      "source": [
        "print(data_raw[\"Bankrupt?\"].value_counts())\n",
        "\n",
        "percentage = data_raw[\"Bankrupt?\"].value_counts()[1]/len(data_raw)\n",
        "print(\"Total percentage of bankrupted companies is %.1f\" %(percentage*100) + \" %.\")\n",
        "\n",
        "sns.countplot(data_raw[\"Bankrupt?\"])\n",
        "plt.show()"
      ],
      "execution_count": null,
      "outputs": [
        {
          "output_type": "stream",
          "name": "stdout",
          "text": [
            "0    6599\n",
            "1     220\n",
            "Name: Bankrupt?, dtype: int64\n",
            "Total percentage of bankrupted companies is 3.2 %.\n"
          ]
        },
        {
          "output_type": "stream",
          "name": "stderr",
          "text": [
            "/usr/local/lib/python3.7/dist-packages/seaborn/_decorators.py:43: FutureWarning: Pass the following variable as a keyword arg: x. From version 0.12, the only valid positional argument will be `data`, and passing other arguments without an explicit keyword will result in an error or misinterpretation.\n",
            "  FutureWarning\n"
          ]
        },
        {
          "output_type": "display_data",
          "data": {
            "image/png": "[encoded data removed]",
            "text/plain": [
              "<Figure size 432x288 with 1 Axes>"
            ]
          },
          "metadata": {
            "needs_background": "light"
          }
        }
      ]
    },
    {
      "cell_type": "markdown",
      "metadata": {
        "id": "ew2EgZcOSvDM"
      },
      "source": [
        "There is a huge imbalance between the two categories. It turns out that only 3.2% companies in this dataset bankrupted.\n",
        "\n",
        "=> The records are observed to be highly imbalanced.\n",
        "\n",
        "=> should use **underspampling** or **OverSampling** to resolve."
      ]
    },
    {
      "cell_type": "markdown",
      "metadata": {
        "id": "p9hQdPhOZ1Tm"
      },
      "source": [
        "The categorical data is distinguished as binary 1 and 0, thus stored as int64\". We separate the numeric and categoric data to analyze our dataset."
      ]
    },
    {
      "cell_type": "code",
      "metadata": {
        "colab": {
          "base_uri": "https://localhost:8080/"
        },
        "id": "Eo-M_K7zTwsa",
        "outputId": "d1f1e8ca-3f11-4a55-f279-89643e63425e"
      },
      "source": [
        "numeric_features = data_raw.dtypes[data_raw.dtypes != 'int64'].index\n",
        "categorical_features = data_raw.dtypes[data_raw.dtypes == 'int64'].index\n",
        "\n",
        "data_raw[categorical_features].columns.tolist()"
      ],
      "execution_count": null,
      "outputs": [
        {
          "output_type": "execute_result",
          "data": {
            "text/plain": [
              "['Bankrupt?', 'Liability-Assets Flag', 'Net Income Flag']"
            ]
          },
          "metadata": {},
          "execution_count": 13
        }
      ]
    },
    {
      "cell_type": "markdown",
      "metadata": {
        "id": "VkZIEQEXaFXD"
      },
      "source": [
        "Explore columns: 'Liability-Assets Flag'\n"
      ]
    },
    {
      "cell_type": "code",
      "metadata": {
        "colab": {
          "base_uri": "https://localhost:8080/",
          "height": 407
        },
        "id": "MU54HQEraO0a",
        "outputId": "43c01449-35b8-4276-f5c9-ec0b8d5b796b"
      },
      "source": [
        "print(data_raw[\"Liability-Assets Flag\"].value_counts())\n",
        "sns.countplot(data_raw[\"Liability-Assets Flag\"])"
      ],
      "execution_count": null,
      "outputs": [
        {
          "output_type": "stream",
          "name": "stdout",
          "text": [
            "0    6811\n",
            "1       8\n",
            "Name: Liability-Assets Flag, dtype: int64\n"
          ]
        },
        {
          "output_type": "stream",
          "name": "stderr",
          "text": [
            "/usr/local/lib/python3.7/dist-packages/seaborn/_decorators.py:43: FutureWarning: Pass the following variable as a keyword arg: x. From version 0.12, the only valid positional argument will be `data`, and passing other arguments without an explicit keyword will result in an error or misinterpretation.\n",
            "  FutureWarning\n"
          ]
        },
        {
          "output_type": "execute_result",
          "data": {
            "text/plain": [
              "<matplotlib.axes._subplots.AxesSubplot at 0x7f41de9af0d0>"
            ]
          },
          "metadata": {},
          "execution_count": 8
        },
        {
          "output_type": "display_data",
          "data": {
            "image/png": "[encoded data removed]",
            "text/plain": [
              "<Figure size 432x288 with 1 Axes>"
            ]
          },
          "metadata": {
            "needs_background": "light"
          }
        }
      ]
    },
    {
      "cell_type": "markdown",
      "metadata": {
        "id": "iOGZcHnIcU85"
      },
      "source": [
        "*A majority number of times, organizations/company's assets are more than their liabilities.*"
      ]
    },
    {
      "cell_type": "markdown",
      "metadata": {
        "id": "30t5ptq-cinb"
      },
      "source": [
        "Explore columns: 'Net Income Flag'"
      ]
    },
    {
      "cell_type": "code",
      "metadata": {
        "colab": {
          "base_uri": "https://localhost:8080/",
          "height": 389
        },
        "id": "n08F4eZ7bCUG",
        "outputId": "47401e20-a5cf-4960-f62a-fa32fc33da20"
      },
      "source": [
        "print(data_raw[\"Net Income Flag\"].value_counts())\n",
        "sns.countplot(data_raw[\"Net Income Flag\"])"
      ],
      "execution_count": null,
      "outputs": [
        {
          "output_type": "stream",
          "name": "stdout",
          "text": [
            "1    6819\n",
            "Name: Net Income Flag, dtype: int64\n"
          ]
        },
        {
          "output_type": "stream",
          "name": "stderr",
          "text": [
            "/usr/local/lib/python3.7/dist-packages/seaborn/_decorators.py:43: FutureWarning: Pass the following variable as a keyword arg: x. From version 0.12, the only valid positional argument will be `data`, and passing other arguments without an explicit keyword will result in an error or misinterpretation.\n",
            "  FutureWarning\n"
          ]
        },
        {
          "output_type": "execute_result",
          "data": {
            "text/plain": [
              "<matplotlib.axes._subplots.AxesSubplot at 0x7f41de98eb50>"
            ]
          },
          "metadata": {},
          "execution_count": 9
        },
        {
          "output_type": "display_data",
          "data": {
            "image/png": "[encoded data removed]",
            "text/plain": [
              "<Figure size 432x288 with 1 Axes>"
            ]
          },
          "metadata": {
            "needs_background": "light"
          }
        }
      ]
    },
    {
      "cell_type": "markdown",
      "metadata": {
        "id": "D9oyDohVcsf6"
      },
      "source": [
        "Net Income Flag: 1 if Net Income is Negative for the last two years, 0 otherwise\n",
        "*=> We observe that all the records have been exhibiting a loss(Negative income) for the past two years.*"
      ]
    },
    {
      "cell_type": "code",
      "metadata": {
        "colab": {
          "base_uri": "https://localhost:8080/",
          "height": 405
        },
        "id": "MP1Yu2p1d8j2",
        "outputId": "228740cc-751e-4a19-9b37-678e0b8718b0"
      },
      "source": [
        "print(data_raw[['Liability-Assets Flag', 'Bankrupt?']].value_counts())\n",
        "sns.countplot(x = 'Liability-Assets Flag', hue = 'Bankrupt?',data = data_raw)"
      ],
      "execution_count": null,
      "outputs": [
        {
          "output_type": "stream",
          "name": "stdout",
          "text": [
            "Liability-Assets Flag  Bankrupt?\n",
            "0                      0            6597\n",
            "                       1             214\n",
            "1                      1               6\n",
            "                       0               2\n",
            "dtype: int64\n"
          ]
        },
        {
          "output_type": "execute_result",
          "data": {
            "text/plain": [
              "<matplotlib.axes._subplots.AxesSubplot at 0x7f41de220810>"
            ]
          },
          "metadata": {},
          "execution_count": 10
        },
        {
          "output_type": "display_data",
          "data": {
            "image/png": "[encoded data removed]",
            "text/plain": [
              "<Figure size 432x288 with 1 Axes>"
            ]
          },
          "metadata": {
            "needs_background": "light"
          }
        }
      ]
    },
    {
      "cell_type": "code",
      "metadata": {
        "colab": {
          "base_uri": "https://localhost:8080/",
          "height": 405
        },
        "id": "EabLZVufbCRe",
        "outputId": "bf82634b-ff70-4816-8d99-78ccabedd1a7"
      },
      "source": [
        "print(data_raw[['Liability-Assets Flag', 'Net Income Flag','Bankrupt?']].value_counts())\n",
        "sns.countplot(x = 'Net Income Flag', hue = 'Bankrupt?',data = data_raw)"
      ],
      "execution_count": null,
      "outputs": [
        {
          "output_type": "stream",
          "name": "stdout",
          "text": [
            "Liability-Assets Flag  Net Income Flag  Bankrupt?\n",
            "0                      1                0            6597\n",
            "                                        1             214\n",
            "1                      1                1               6\n",
            "                                        0               2\n",
            "dtype: int64\n"
          ]
        },
        {
          "output_type": "execute_result",
          "data": {
            "text/plain": [
              "<matplotlib.axes._subplots.AxesSubplot at 0x7f62b19752d0>"
            ]
          },
          "metadata": {},
          "execution_count": 53
        },
        {
          "output_type": "display_data",
          "data": {
            "image/png": "[encoded data removed]",
            "text/plain": [
              "<Figure size 432x288 with 1 Axes>"
            ]
          },
          "metadata": {
            "needs_background": "light"
          }
        }
      ]
    },
    {
      "cell_type": "markdown",
      "metadata": {
        "id": "m9ygDFpwY5kp"
      },
      "source": [
        "*Many organizations that have suffered losses for the past two years have stabilized their business, thus avoiding bankruptcy.*\n",
        "\n"
      ]
    },
    {
      "cell_type": "code",
      "metadata": {
        "id": "3942USvfacjW"
      },
      "source": [
        "positive_corr = data_raw[numeric_features].corrwith(data_raw[\"Bankrupt?\"]).sort_values(ascending=False)[:6].index.tolist()\n",
        "negative_corr = data_raw[numeric_features].corrwith(data_raw[\"Bankrupt?\"]).sort_values()[:6].index.tolist()\n",
        "\n",
        "positive_corr = data_raw[positive_corr + [\"Bankrupt?\"]].copy()\n",
        "negative_corr = data_raw[negative_corr + [\"Bankrupt?\"]].copy()"
      ],
      "execution_count": null,
      "outputs": []
    },
    {
      "cell_type": "markdown",
      "metadata": {
        "id": "L-uEtgGma7uB"
      },
      "source": [
        "For simplicity: the six top positively and negatively correlated attributes."
      ]
    },
    {
      "cell_type": "code",
      "metadata": {
        "id": "gPU0pde3bEvv",
        "colab": {
          "base_uri": "https://localhost:8080/",
          "height": 597
        },
        "outputId": "dda498c2-d4ec-443a-952b-bdfbc1c6d16d"
      },
      "source": [
        "x_value = positive_corr.columns.tolist()[-1]\n",
        "y_value = positive_corr.columns.tolist()[:-1]\n",
        "\n",
        "corrbargraph(data_raw, x_value, y_value)"
      ],
      "execution_count": null,
      "outputs": [
        {
          "output_type": "display_data",
          "data": {
            "image/png": "[encoded data removed]",
            "text/plain": [
              "<Figure size 1080x576 with 6 Axes>"
            ]
          },
          "metadata": {
            "needs_background": "light"
          }
        }
      ]
    },
    {
      "cell_type": "code",
      "metadata": {
        "colab": {
          "base_uri": "https://localhost:8080/",
          "height": 582
        },
        "id": "nFcr_0UScK_o",
        "outputId": "d2783d1b-11eb-4e50-d291-90bfd18d8622"
      },
      "source": [
        "x_value = negative_corr.columns.tolist()[-1]\n",
        "y_value = negative_corr.columns.tolist()[:-1]\n",
        "\n",
        "corrbargraph(data_raw, x_value, y_value)"
      ],
      "execution_count": null,
      "outputs": [
        {
          "output_type": "display_data",
          "data": {
            "image/png": "[encoded data removed]",
            "text/plain": [
              "<Figure size 1080x576 with 6 Axes>"
            ]
          },
          "metadata": {
            "needs_background": "light"
          }
        }
      ]
    },
    {
      "cell_type": "code",
      "metadata": {
        "colab": {
          "base_uri": "https://localhost:8080/"
        },
        "id": "usWhWEPRhcog",
        "outputId": "7a6895f8-cbbe-4cf5-f81f-a633851641a0"
      },
      "source": [
        "attributes = [negative_corr.columns.tolist()[-1]] + negative_corr.columns.tolist()[:-1] + positive_corr.columns.tolist()[:-1]\n",
        "print(attributes)"
      ],
      "execution_count": null,
      "outputs": [
        {
          "output_type": "stream",
          "name": "stdout",
          "text": [
            "['Bankrupt?', 'Net Income To Total Assets', 'Roa(A) Before Interest And % After Tax', 'Roa(B) Before Interest And Depreciation After Tax', 'Roa(C) Before Interest And Depreciation Before Interest', 'Net Worth/Assets', 'Persistent Eps In The Last Four Seasons', 'Debt Ratio %', 'Current Liability To Assets', 'Borrowing Dependency', 'Current Liability To Current Assets', 'Liability To Equity', 'Current Liabilities/Equity']\n"
          ]
        }
      ]
    },
    {
      "cell_type": "markdown",
      "metadata": {
        "id": "0KFUgsUmgxw7"
      },
      "source": [
        "=> List attributes have chosen:\n",
        "['Bankrupt?', 'Net Income To Total Assets', 'Roa(A) Before Interest And % After Tax', 'Roa(B) Before Interest And Depreciation After Tax', 'Roa(C) Before Interest And Depreciation Before Interest', 'Net Worth/Assets', 'Persistent Eps In The Last Four Seasons', 'Debt Ratio %', 'Current Liability To Assets', 'Borrowing Dependency', 'Current Liability To Current Assets', 'Liability To Equity', 'Current Liabilities/Equity']\n"
      ]
    },
    {
      "cell_type": "code",
      "metadata": {
        "colab": {
          "base_uri": "https://localhost:8080/"
        },
        "id": "zwt56oD7lPgr",
        "outputId": "4faf22d3-faf7-48e1-bbf4-d8df37fd0c48"
      },
      "source": [
        "data, data_test_via_api = data_raw[attributes], data_raw[attributes[1:]][:5]\n",
        "data.shape"
      ],
      "execution_count": null,
      "outputs": [
        {
          "output_type": "execute_result",
          "data": {
            "text/plain": [
              "(6814, 13)"
            ]
          },
          "metadata": {},
          "execution_count": 115
        }
      ]
    },
    {
      "cell_type": "code",
      "metadata": {
        "colab": {
          "base_uri": "https://localhost:8080/"
        },
        "id": "vTiqiAkIRDcB",
        "outputId": "c19bafad-e5db-4cd8-a06f-22e99d86f016"
      },
      "source": [
        "# Save data test file at gg drive\n",
        "from google.colab import drive\n",
        "drive.mount('drive')\n",
        "data_test_via_api.to_csv(\n",
        "    '/content/drive/My Drive/Colab Notebooks/MTI/data/data_test_via_api.csv',\n",
        "    index=False,)"
      ],
      "execution_count": null,
      "outputs": [
        {
          "output_type": "stream",
          "name": "stdout",
          "text": [
            "Drive already mounted at drive; to attempt to forcibly remount, call drive.mount(\"drive\", force_remount=True).\n"
          ]
        }
      ]
    },
    {
      "cell_type": "markdown",
      "metadata": {
        "id": "N9wDgpNRk7Cd"
      },
      "source": [
        "PCA is a way to decorrelate and reduce the dimensionality of the data through the change of the basis."
      ]
    },
    {
      "cell_type": "code",
      "metadata": {
        "id": "f2afZASjcLig"
      },
      "source": [
        "#PCA\n",
        "scaler = StandardScaler() \n",
        "data_for_pca = pd.DataFrame(data=scaler.fit_transform(data),index=data.index,columns=data.columns)\n",
        "\n",
        "n_components = 10\n",
        "\n",
        "pca = PCA(n_components=n_components)\n",
        "principal_components = pca.fit_transform(data_for_pca)\n",
        "data_pc = pd.DataFrame(data=principal_components, columns=['PC %d'%d for d in range(n_components)])"
      ],
      "execution_count": null,
      "outputs": []
    },
    {
      "cell_type": "markdown",
      "metadata": {
        "id": "jHHgJhBwmL27"
      },
      "source": [
        "# Data Imbalance\n",
        "There is a huge imbalance between the data (only 3.2% companies from the dataset bankrupted). Before training a model I need to deal with this problem, otherwise the model would just predict every company to not bankrupt.\n",
        "\n",
        "**SMOTE** The Synthetic Minority Over-sampling TEchnique. \\ Creates new synthetic datapoints using the k-nearest neighbor algorithm. \\ With this method I am going to obtain the dataset where the value counts for both categories are the same.\n",
        "\n"
      ]
    },
    {
      "cell_type": "code",
      "metadata": {
        "id": "kXMmKSlom3PB"
      },
      "source": [
        "X, y = data[data.columns.tolist()[1:]], data[data.columns.tolist()[0]]"
      ],
      "execution_count": null,
      "outputs": []
    },
    {
      "cell_type": "code",
      "metadata": {
        "colab": {
          "base_uri": "https://localhost:8080/"
        },
        "id": "0Zl_Zj0ccLfx",
        "outputId": "37946021-0b58-4206-c74f-da53da2cdeaf"
      },
      "source": [
        "#DATA IMBALANCE\n",
        "#SMOTE \n",
        "sm = SMOTE(random_state=42)\n",
        "\n",
        "X_sm, y_sm = sm.fit_resample(X, y)\n",
        "X_sm = pd.DataFrame(X_sm, columns=X.columns.tolist())\n",
        "y_sm = pd.DataFrame(y_sm, columns=['Bankrupt?'])\n",
        "\n",
        "print('New balance of 1 and 0 classes (%):')\n",
        "y_sm.value_counts()"
      ],
      "execution_count": null,
      "outputs": [
        {
          "output_type": "stream",
          "name": "stdout",
          "text": [
            "New balance of 1 and 0 classes (%):\n"
          ]
        },
        {
          "output_type": "stream",
          "name": "stderr",
          "text": [
            "/usr/local/lib/python3.7/dist-packages/sklearn/utils/deprecation.py:87: FutureWarning: Function safe_indexing is deprecated; safe_indexing is deprecated in version 0.22 and will be removed in version 0.24.\n",
            "  warnings.warn(msg, category=FutureWarning)\n"
          ]
        },
        {
          "output_type": "execute_result",
          "data": {
            "text/plain": [
              "Bankrupt?\n",
              "1            6599\n",
              "0            6599\n",
              "dtype: int64"
            ]
          },
          "metadata": {},
          "execution_count": 85
        }
      ]
    },
    {
      "cell_type": "markdown",
      "metadata": {
        "id": "3Rav8TAkqgYb"
      },
      "source": [
        "# Train Model:\n",
        "Use Random Forest Classifier"
      ]
    },
    {
      "cell_type": "markdown",
      "metadata": {
        "id": "ETg56dqev5s5"
      },
      "source": [
        "## Training model"
      ]
    },
    {
      "cell_type": "code",
      "metadata": {
        "id": "DUvTn9csrQg1"
      },
      "source": [
        "# Ratio: train set 80%, test set 20%\n",
        "X_train, X_test, y_train, y_test = train_test_split(\n",
        "    X_sm, y_sm, test_size=0.2, random_state=42)"
      ],
      "execution_count": null,
      "outputs": []
    },
    {
      "cell_type": "code",
      "metadata": {
        "colab": {
          "base_uri": "https://localhost:8080/"
        },
        "id": "NEJ0WVxucLc5",
        "outputId": "c8c1a4a4-830c-4d16-cba7-c1d183d53719"
      },
      "source": [
        "# Model\n",
        "model = RandomForestClassifier(n_estimators=50, n_jobs=-1, random_state=42)\n",
        "\n",
        "conf_matrix_list_of_arrays = []\n",
        "conf_matrix_list_of_arrays_test_set = []\n",
        "\n",
        "accuracy_models = []\n",
        "accuracy_test_set = []\n",
        "\n",
        "f1_score_train = []\n",
        "f1_score_test = []\n",
        "\n",
        "K_Fold = 3\n",
        "kf = KFold(n_splits=K_Fold)\n",
        "kf.get_n_splits(X_train)\n",
        "\n",
        "# Start time\n",
        "start_ho = timer()\n",
        "for train_index, test_index in kf.split(X_train):\n",
        "    X_tr, X_te = X_train.iloc[train_index], X_train.iloc[test_index]\n",
        "    y_tr, y_te = y_train.iloc[train_index], y_train.iloc[test_index]\n",
        "\n",
        "    model.fit(X_tr, y_tr)\n",
        "    # Print the accuracy\n",
        "    y_pre_train = model.predict(X_te)\n",
        "    y_pre_test = model.predict(X_test)\n",
        "    accuracy_models.append(\n",
        "        accuracy_score(y_te, y_pre_train, normalize=True)*100)\n",
        "    accuracy_test_set.append(\n",
        "        accuracy_score(y_test, y_pre_test, normalize=True)*100)\n",
        "    # Confusion matrix\n",
        "    conf_matrix = confusion_matrix(y_te, y_pre_train)\n",
        "    conf_matrix_list_of_arrays.append(conf_matrix)\n",
        "    conf_matrix_2 = confusion_matrix(y_test, y_pre_test)\n",
        "    conf_matrix_list_of_arrays_test_set.append(conf_matrix_2)\n",
        "    # F1 score\n",
        "    f1_score_train.append(f1_score(y_te, y_pre_train))\n",
        "    f1_score_test.append(f1_score(y_test, y_pre_test))\n",
        "\n",
        "print('Accuracy rate on data train: ', accuracy_models)\n",
        "print('Accuracy rate on data test: ', accuracy_test_set)\n",
        "print('Average Accuracy rate on data train:', np.mean(accuracy_models))\n",
        "print('Average Accuracy rate on data test:', np.mean(accuracy_test_set))\n",
        "print('Average F1 score on data train:', np.mean(f1_score_train))\n",
        "print('Average F1 score on data test:', np.mean(f1_score_test))\n",
        "# Endtime\n",
        "end_ho = timer()\n",
        "# Total time running\n",
        "time_diff = round((end_ho - start_ho), 2)\n",
        "print('Total time: ', time_diff, ' second')"
      ],
      "execution_count": null,
      "outputs": [
        {
          "output_type": "stream",
          "name": "stderr",
          "text": [
            "/usr/local/lib/python3.7/dist-packages/ipykernel_launcher.py:23: DataConversionWarning: A column-vector y was passed when a 1d array was expected. Please change the shape of y to (n_samples,), for example using ravel().\n",
            "/usr/local/lib/python3.7/dist-packages/ipykernel_launcher.py:23: DataConversionWarning: A column-vector y was passed when a 1d array was expected. Please change the shape of y to (n_samples,), for example using ravel().\n",
            "/usr/local/lib/python3.7/dist-packages/ipykernel_launcher.py:23: DataConversionWarning: A column-vector y was passed when a 1d array was expected. Please change the shape of y to (n_samples,), for example using ravel().\n"
          ]
        },
        {
          "output_type": "stream",
          "name": "stdout",
          "text": [
            "Accuracy rate on data train:  [95.76704545454545, 95.22591645353793, 96.61835748792271]\n",
            "Accuracy rate on data test:  [95.83333333333334, 95.11363636363637, 95.83333333333334]\n",
            "Average Accuracy rate on data train: 95.8704397986687\n",
            "Average Accuracy rate on data test: 95.59343434343435\n",
            "Average F1 score on data train: 0.9594943012213082\n",
            "Average F1 score on data test: 0.9563167062058415\n",
            "Total time:  2.85  second\n"
          ]
        }
      ]
    },
    {
      "cell_type": "code",
      "metadata": {
        "colab": {
          "base_uri": "https://localhost:8080/",
          "height": 365
        },
        "id": "oxKXrLGVq6Ti",
        "outputId": "ed78aff6-2a15-462f-a988-798784c73e06"
      },
      "source": [
        "# Confusion matrix: data test\n",
        "actual_cm_test_set = np.mean(conf_matrix_list_of_arrays_test_set, axis=0).astype(int)\n",
        "labels = ['Not Bankrupt', 'Bankrupt']\n",
        "plot_confusion_matrix(actual_cm_test_set, labels, title=\"Confusion Matrix \\nTrên dữ liệu kiểm thử\", cmap=plt.cm.Greens)"
      ],
      "execution_count": null,
      "outputs": [
        {
          "output_type": "stream",
          "name": "stdout",
          "text": [
            "Confusion matrix, without normalization\n",
            "[[1250   83]\n",
            " [  32 1273]]\n"
          ]
        },
        {
          "output_type": "display_data",
          "data": {
            "image/png": "[encoded data removed]",
            "text/plain": [
              "<Figure size 432x288 with 2 Axes>"
            ]
          },
          "metadata": {
            "needs_background": "light"
          }
        }
      ]
    },
    {
      "cell_type": "markdown",
      "metadata": {
        "id": "N6wJbPbEvHF3"
      },
      "source": [
        "\n",
        "\n",
        "*   2%(32/(32+1273)) company is Bankrupt but have predict Not Bankrupt\n",
        "*   6% company is Not Bankrupt but have predict Bankrupt\n",
        "\n"
      ]
    },
    {
      "cell_type": "markdown",
      "metadata": {
        "id": "tjAzr24twaOA"
      },
      "source": [
        "## Saving and loading model"
      ]
    },
    {
      "cell_type": "code",
      "metadata": {
        "id": "3B4BfMbbxWx-"
      },
      "source": [
        "import pickle"
      ],
      "execution_count": null,
      "outputs": []
    },
    {
      "cell_type": "code",
      "metadata": {
        "id": "r8lViXhpllWS"
      },
      "source": [
        "# Save model with name bankrupt_model\n",
        "bankrupt_model = \"bankrupt_model.pkl\"\n",
        "with open(bankrupt_model, 'wb') as file:\n",
        "    pickle.dump(model, file)"
      ],
      "execution_count": null,
      "outputs": []
    },
    {
      "cell_type": "code",
      "metadata": {
        "id": "e9a6M7hsojst"
      },
      "source": [
        "# Load model\n",
        "try:\n",
        "    with open(bankrupt_model, 'rb') as file:\n",
        "        bankrupt_model = pickle.load(file)\n",
        "except:\n",
        "    print('Cannot find the bankrupt model!')"
      ],
      "execution_count": null,
      "outputs": []
    },
    {
      "cell_type": "code",
      "metadata": {
        "id": "QZBI9qUg1b6n"
      },
      "source": [
        "mock_data_test = []"
      ],
      "execution_count": null,
      "outputs": []
    },
    {
      "cell_type": "code",
      "metadata": {
        "colab": {
          "base_uri": "https://localhost:8080/"
        },
        "id": "sukoPym20txd",
        "outputId": "9a4d701e-9866-4f5f-9753-40a01a31d627"
      },
      "source": [
        "# Test model\n",
        "Ypredict = bankrupt_model.predict(X_test_via_api)\n",
        "print(Ypredict)"
      ],
      "execution_count": null,
      "outputs": [
        {
          "output_type": "stream",
          "name": "stdout",
          "text": [
            "[0 1 0 0 0 0 1 1 0 1 1 1 1 1 0 1 1 1 0 1 0 1 1 0 0 0 1 1 0 1 0 1 0 1 1 0 1\n",
            " 0 0 0 0 0 1 0 1 1 0 1 1 1 0 1 1 0 0 1 1 1 1 1 0 0 0 0 0 1 0 1 1 1 0 0 0 1\n",
            " 1 1 1 0 1 0 0 1 0 1 0 0 0 1 1 0 1 1 0 1 0 1 0 1 0 1 0 0 1 1 0 1 0 1 1 1 1\n",
            " 1 1 0 0 0 1 0 1 1 1 1 0 1 0 0 0 0 1 0 0 1 0 0 0 1 1 0 1 0 1 1 1 1 0 1 1 0\n",
            " 0 1 1 0 0 1 0 1 1 0 1 0 1 1 0 1 1 0 0 0 0 0 0 1 1 0 1 1 1 0 1 1 0 0 1 0 0\n",
            " 1 0 0 1 0 0 1 0 0 0 1 1 0 0 1 0 1 0 0 1 0 0 1 1 1 0 1 1 1 1 1 1 0 1 0 0 0\n",
            " 1 1 0 0 0 0 0 0 0 0 1 0 0 1 0 1 1 1 1 1 1 1 0 1 1 0 0 1 0 0 0 0 0 1 1 1 1\n",
            " 0 0 0 0 1 1 0 0 0 1 0 1 1 1 0 0 0 0 0 0 0 1 1 1 1 0 0 1 0 1 0 1 1 0 1 1 1\n",
            " 0 1 1 0 1 0 0 0 0 0 0 0 0 0 1 1 0 0 1 0 0 1 0 0 1 0 1 0 1 1 1 1 1 1 0 0 0\n",
            " 0 0 0 0 1 1 1 0 1 1 0 1 0 1 1 1 1 1 0 0 0 0 1 1 0 1 0 1 0 0 1 1 1 1 0 0 1\n",
            " 0 0 0 1 0 0 0 1 0 1 0 0 0 1 0 0 1 0 1 0 0 0 1 1 1 1 0 1 0 1 1 1 1 1 1 1 0\n",
            " 1 1 0 1 1 1 1 1 1 0 1 0 1 1 0 0 1 0 0 1 0 1 1 1 0 0 1 0 0 0 1 0 0 1 0 0 1\n",
            " 0 1 0 0 1 0 1 0 1 0 0 1 0 0 1 1 1 0 0 1 0 0 1 1 0 0 1 0 1 0 0 0 0 0 1 1 1\n",
            " 0 1 0 1 1 0 0 1 0 1 0 0 1 0 1 0 1 1 1 1 1 0 0 0 1 0 0 0 1 0 1 1 1 0 1 0 1\n",
            " 1 1 1 1 1 0 0 1 1 1]\n"
          ]
        }
      ]
    },
    {
      "cell_type": "markdown",
      "metadata": {
        "id": "h6Tf64kD1MIB"
      },
      "source": [
        "# Need improve:\n",
        "\n",
        "\n",
        "1.   Try more model and find the best accuracy\n",
        "2.   Try more parameters (Kfold, n_estimators, random_state, data train size,...)\n",
        "2.   Save only best accuracy model\n",
        "\n",
        "\n"
      ]
    }
  ]
}